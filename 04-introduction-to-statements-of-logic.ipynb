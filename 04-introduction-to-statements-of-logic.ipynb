{
 "cells": [
  {
   "cell_type": "markdown",
   "metadata": {},
   "source": [
    "# Letures on Discrete Matheamtics and covers *an introduction to statements of logic*\n"
   ]
  },
  {
   "cell_type": "code",
   "execution_count": 33,
   "metadata": {},
   "outputs": [],
   "source": [
    "import sympy as sym"
   ]
  },
  {
   "cell_type": "code",
   "execution_count": 2,
   "metadata": {},
   "outputs": [],
   "source": [
    "sym.init_printing(use_latex = \"mathjax\")"
   ]
  },
  {
   "cell_type": "markdown",
   "metadata": {},
   "source": [
    "# Introduction to statements of logic"
   ]
  },
  {
   "cell_type": "markdown",
   "metadata": {},
   "source": [
    "## In this lesson"
   ]
  },
  {
   "cell_type": "markdown",
   "metadata": {},
   "source": [
    "Follow these links\n",
    "- [Propositions](#Propositions)\n",
    "- [Propositional variables](#Propositional-variables)\n",
    "- [The basic logical operations](#The-basic-logical-operations)\n",
    "- [Precedence](#Precedence)\n",
    "- [Propositional functions](#Propositional-functions)\n",
    "- [Logical equivalence of propositional functions](#Logical-equivalence-of-propositional-functions)\n",
    "- [A tautology](#A-tautology)\n",
    "- [A contradiction or an absurdity](#A-contradiction-or-an-absurdity)\n",
    "- [A contingency](#A-contingency)\n",
    "- [The propositional laws of algebra](#The-propositional-laws-of-algebra)\n",
    "- [Arguments](#Arguments)\n",
    "- [The rules of inference](#The-rules-of-inference)\n",
    "- [Common fallacies](#Common-fallacies)\n",
    "- [The *sympy* Q class](#The-sympy-Q-class)\n",
    "- [Propositional functions and quantifiers](#Propositional-functions-and-quantifiers)\n",
    "- [The negation of a quantified statement](#The-negation-of-a-quantified-statement)\n",
    "- [The counterexample](#The-counterexample)\n",
    "- [Propositional statements of more than one variable](#Propositional-statements-of-more-than-one-variable)\n",
    "- [Negating propositional statements of more than one variable](#Negating-propositional-statements-of-more-than-one-variable)\n",
    "- [Redefining the limit of a sequence](#Redefining-the-limit-of-a-sequence)"
   ]
  },
  {
   "cell_type": "markdown",
   "metadata": {},
   "source": [
    "## Propositions"
   ]
  },
  {
   "cell_type": "markdown",
   "metadata": {},
   "source": [
    "One particular logical statement is a **proposition**.  A proposition is defined as any declarative sentence to which it is meaningful to assign only a single binary value of *true* or *false*.  These assigments are mutually exclusive.<p/>\n",
    "We are gong to use propositions in mathematical proofs.  To do this we must become familiar with the laws of formal reasoning.  The simplest form of formal reasoning is **propositional logic**, also known as **propositional calculus**.  Here calculus refers to a formal system of reasoning and not to derivatives and integrals and propositional refers to the sentences mentioned above.<p/>\n",
    "Propositions take the form of a linguistic expression, i.e. a statement: \"There are twelve months in a calendar year.\".  We can call this sentence, or proposition, $ p $, and it holds the value of *true*."
   ]
  },
  {
   "cell_type": "markdown",
   "metadata": {},
   "source": [
    "## Propositional variables"
   ]
  },
  {
   "cell_type": "markdown",
   "metadata": {},
   "source": [
    "We called the proposition above, $ p $.  This $ p $ is a **propositional variable**.  Usual notation include $ p, q $ and $ r $."
   ]
  },
  {
   "cell_type": "markdown",
   "metadata": {},
   "source": [
    "## The basic logical operations"
   ]
  },
  {
   "cell_type": "markdown",
   "metadata": {},
   "source": [
    "There are three basic logical operations.  They are used in terms of propsitional variables and connect them in a logical fashion.\n",
    "- Conjunction $ \\land  $\n",
    "- Disjuntions $ \\lor  $\n",
    "- Not, or negation $ \\sim, \\neg $\n",
    "\n",
    "Then there are two conditional statements or implications.\n",
    "- Conditional $ \\rightarrow ,\\Rightarrow  $\n",
    "- Biconditional, or if and only if $ \\leftrightarrow ,\\Leftrightarrow $"
   ]
  },
  {
   "cell_type": "markdown",
   "metadata": {},
   "source": [
    "Let's start with **conjunction**.  If we have two propositions, $ p $ and $ q $, then the conjunction of these propositions is a compound statement written as $ p \\land q $ or $ p $ & $ q $.  This compound proposition is only *true* if both $ p $ and $ q $ are *true*."
   ]
  },
  {
   "cell_type": "markdown",
   "metadata": {},
   "source": [
    "We can look at this in *sympy*.  First we declare two mathematical symbols."
   ]
  },
  {
   "cell_type": "code",
   "execution_count": 34,
   "metadata": {},
   "outputs": [],
   "source": [
    "p, q = sym.symbols(\"p q\")"
   ]
  },
  {
   "cell_type": "code",
   "execution_count": 35,
   "metadata": {
    "collapsed": false,
    "jupyter": {
     "outputs_hidden": false
    }
   },
   "outputs": [
    {
     "data": {
      "text/latex": [
       "$\\displaystyle p \\wedge q$"
      ],
      "text/plain": [
       "p & q"
      ]
     },
     "execution_count": 35,
     "metadata": {},
     "output_type": "execute_result"
    }
   ],
   "source": [
    "# Printing the conjunction to the screen\n",
    "p & q"
   ]
  },
  {
   "cell_type": "markdown",
   "metadata": {},
   "source": [
    "**Truth tables** as tables that we can write down to determine whether a connective of propositions is *true* or *false*.  This can also be done in *sympy*."
   ]
  },
  {
   "cell_type": "code",
   "execution_count": 36,
   "metadata": {
    "collapsed": false,
    "jupyter": {
     "outputs_hidden": false
    }
   },
   "outputs": [
    {
     "data": {
      "text/latex": [
       "$\\displaystyle \\text{True}$"
      ],
      "text/plain": [
       "True"
      ]
     },
     "execution_count": 36,
     "metadata": {},
     "output_type": "execute_result"
    }
   ],
   "source": [
    "# Both p and q are true, thus p & q is true\n",
    "(p & q).subs({p:True, q:True})"
   ]
  },
  {
   "cell_type": "code",
   "execution_count": 37,
   "metadata": {
    "collapsed": false,
    "jupyter": {
     "outputs_hidden": false
    }
   },
   "outputs": [
    {
     "data": {
      "text/latex": [
       "$\\displaystyle \\text{False}$"
      ],
      "text/plain": [
       "False"
      ]
     },
     "execution_count": 37,
     "metadata": {},
     "output_type": "execute_result"
    }
   ],
   "source": [
    "# Both p and q are false\n",
    "(p & q).subs({p:False, q:False})"
   ]
  },
  {
   "cell_type": "code",
   "execution_count": 38,
   "metadata": {
    "collapsed": false,
    "jupyter": {
     "outputs_hidden": false
    }
   },
   "outputs": [
    {
     "data": {
      "text/latex": [
       "$\\displaystyle \\text{False}$"
      ],
      "text/plain": [
       "False"
      ]
     },
     "execution_count": 38,
     "metadata": {},
     "output_type": "execute_result"
    }
   ],
   "source": [
    "# p is true, but q is false\n",
    "(p & q).subs({p:True, q:False})"
   ]
  },
  {
   "cell_type": "code",
   "execution_count": 39,
   "metadata": {
    "collapsed": false,
    "jupyter": {
     "outputs_hidden": false
    }
   },
   "outputs": [
    {
     "data": {
      "text/latex": [
       "$\\displaystyle \\text{False}$"
      ],
      "text/plain": [
       "False"
      ]
     },
     "execution_count": 39,
     "metadata": {},
     "output_type": "execute_result"
    }
   ],
   "source": [
    "# p is false, but q is true\n",
    "(p & q).subs({p:False, q:True})"
   ]
  },
  {
   "cell_type": "markdown",
   "metadata": {},
   "source": [
    "As you can see above, it is only when both $ p $ and $ q $ are *true* that the conjunction $ p \\land q $ is *true*."
   ]
  },
  {
   "cell_type": "markdown",
   "metadata": {},
   "source": [
    "The **disjunction** of $ p $ on $ q $ is written as $ p \\vee q $.  It evaluates to *true* if either of $ p $ or $ q $ are true."
   ]
  },
  {
   "cell_type": "code",
   "execution_count": 40,
   "metadata": {
    "collapsed": false,
    "jupyter": {
     "outputs_hidden": false
    }
   },
   "outputs": [
    {
     "data": {
      "text/latex": [
       "$\\displaystyle p \\vee q$"
      ],
      "text/plain": [
       "p | q"
      ]
     },
     "execution_count": 40,
     "metadata": {},
     "output_type": "execute_result"
    }
   ],
   "source": [
    "# Sympy notation for the disjunction\n",
    "p | q"
   ]
  },
  {
   "cell_type": "markdown",
   "metadata": {},
   "source": [
    "Let's look at the truth table."
   ]
  },
  {
   "cell_type": "code",
   "execution_count": 41,
   "metadata": {
    "collapsed": false,
    "jupyter": {
     "outputs_hidden": false
    }
   },
   "outputs": [
    {
     "data": {
      "text/latex": [
       "$\\displaystyle \\text{True}$"
      ],
      "text/plain": [
       "True"
      ]
     },
     "execution_count": 41,
     "metadata": {},
     "output_type": "execute_result"
    }
   ],
   "source": [
    "(p | q).subs({p:True, q:False})"
   ]
  },
  {
   "cell_type": "code",
   "execution_count": 42,
   "metadata": {
    "collapsed": false,
    "jupyter": {
     "outputs_hidden": false
    }
   },
   "outputs": [
    {
     "data": {
      "text/latex": [
       "$\\displaystyle \\text{False}$"
      ],
      "text/plain": [
       "False"
      ]
     },
     "execution_count": 42,
     "metadata": {},
     "output_type": "execute_result"
    }
   ],
   "source": [
    "(p | q).subs({p:False, q:False})"
   ]
  },
  {
   "cell_type": "code",
   "execution_count": 43,
   "metadata": {
    "collapsed": false,
    "jupyter": {
     "outputs_hidden": false
    }
   },
   "outputs": [
    {
     "data": {
      "text/latex": [
       "$\\displaystyle \\text{True}$"
      ],
      "text/plain": [
       "True"
      ]
     },
     "execution_count": 43,
     "metadata": {},
     "output_type": "execute_result"
    }
   ],
   "source": [
    "(p | q).subs({p:True, q:False})"
   ]
  },
  {
   "cell_type": "code",
   "execution_count": 44,
   "metadata": {
    "collapsed": false,
    "jupyter": {
     "outputs_hidden": false
    }
   },
   "outputs": [
    {
     "data": {
      "text/latex": [
       "$\\displaystyle \\text{True}$"
      ],
      "text/plain": [
       "True"
      ]
     },
     "execution_count": 44,
     "metadata": {},
     "output_type": "execute_result"
    }
   ],
   "source": [
    "(p | q).subs({p:False, q:True})"
   ]
  },
  {
   "cell_type": "markdown",
   "metadata": {},
   "source": [
    "From the truth table above, we can see that the disjunction $ p \\lor q $ is *true* whenever at least one of the two propositions are *true*."
   ]
  },
  {
   "cell_type": "markdown",
   "metadata": {},
   "source": [
    "The **negation** involves only a single propositional variable.  It returns a *true* if $ p $ is *false* and a *false* if $ p $ is *false*."
   ]
  },
  {
   "cell_type": "code",
   "execution_count": 45,
   "metadata": {
    "collapsed": false,
    "jupyter": {
     "outputs_hidden": false
    }
   },
   "outputs": [
    {
     "data": {
      "text/latex": [
       "$\\displaystyle \\neg p$"
      ],
      "text/plain": [
       "~p"
      ]
     },
     "execution_count": 45,
     "metadata": {},
     "output_type": "execute_result"
    }
   ],
   "source": [
    "# Sympy notation\n",
    "~p"
   ]
  },
  {
   "cell_type": "code",
   "execution_count": 46,
   "metadata": {
    "collapsed": false,
    "jupyter": {
     "outputs_hidden": false
    }
   },
   "outputs": [
    {
     "data": {
      "text/latex": [
       "$\\displaystyle \\text{False}$"
      ],
      "text/plain": [
       "False"
      ]
     },
     "execution_count": 46,
     "metadata": {},
     "output_type": "execute_result"
    }
   ],
   "source": [
    "# If p is true, then its negation is false\n",
    "(~p).subs({p:True})"
   ]
  },
  {
   "cell_type": "code",
   "execution_count": 47,
   "metadata": {
    "collapsed": false,
    "jupyter": {
     "outputs_hidden": false
    }
   },
   "outputs": [
    {
     "data": {
      "text/latex": [
       "$\\displaystyle \\text{True}$"
      ],
      "text/plain": [
       "True"
      ]
     },
     "execution_count": 47,
     "metadata": {},
     "output_type": "execute_result"
    }
   ],
   "source": [
    "(~p).subs({p:False})"
   ]
  },
  {
   "cell_type": "markdown",
   "metadata": {},
   "source": [
    "The negation of the negation brings us back to where we started.  This is called the **Law of Double Negation**.<p/>\n",
    "There is also a **Law of Contradiction** which states that $ \\left( p \\land \\neg p \\right) = \\mathrm{false} $.  From negation we note that either $ p $ or $ \\neg p $ will be *false*, so the conjuction on which this law is based, results in a *false*."
   ]
  },
  {
   "cell_type": "code",
   "execution_count": 48,
   "metadata": {
    "collapsed": false,
    "jupyter": {
     "outputs_hidden": false
    }
   },
   "outputs": [
    {
     "data": {
      "text/latex": [
       "$\\displaystyle \\text{True}$"
      ],
      "text/plain": [
       "True"
      ]
     },
     "execution_count": 48,
     "metadata": {},
     "output_type": "execute_result"
    }
   ],
   "source": [
    "# The negation of the negation\n",
    "~(~p).subs({p:True})"
   ]
  },
  {
   "cell_type": "code",
   "execution_count": 49,
   "metadata": {
    "collapsed": false,
    "jupyter": {
     "outputs_hidden": false
    }
   },
   "outputs": [
    {
     "data": {
      "text/latex": [
       "$\\displaystyle \\text{False}$"
      ],
      "text/plain": [
       "False"
      ]
     },
     "execution_count": 49,
     "metadata": {},
     "output_type": "execute_result"
    }
   ],
   "source": [
    "~(~p).subs({p:False})"
   ]
  },
  {
   "cell_type": "markdown",
   "metadata": {},
   "source": [
    "The first **conditional** statement uses an implication, $ p $ implies $ q $.  It is denoted as $ p \\Rightarrow q $ and is *true* if  $ q $ is *true* whenever $ p $ is *true*.  The only *false* return is when $ p $ is *true* and $ q $ is *false*.  It takes a bit of getting use to.  It is also called **implications**.<p/>\n",
    "It is read as $ p $ implies $ q $, or $ p $ only if $ q $, if $ p $ then $ q $."
   ]
  },
  {
   "cell_type": "markdown",
   "metadata": {},
   "source": [
    "Here is the truth table as calculated by *sympy*.  When looking at these remember that $ p $ is the **premise** or **hypothesis** or **antecedent** and $ q $ is the **conclusion** or **consequent**."
   ]
  },
  {
   "cell_type": "code",
   "execution_count": 50,
   "metadata": {
    "collapsed": false,
    "jupyter": {
     "outputs_hidden": false
    }
   },
   "outputs": [
    {
     "data": {
      "text/latex": [
       "$\\displaystyle p \\Rightarrow q$"
      ],
      "text/plain": [
       "Implies(p, q)"
      ]
     },
     "execution_count": 50,
     "metadata": {},
     "output_type": "execute_result"
    }
   ],
   "source": [
    "# In sympy notation\n",
    "p >> q"
   ]
  },
  {
   "cell_type": "code",
   "execution_count": 51,
   "metadata": {
    "collapsed": false,
    "jupyter": {
     "outputs_hidden": false
    }
   },
   "outputs": [
    {
     "data": {
      "text/latex": [
       "$\\displaystyle \\text{True}$"
      ],
      "text/plain": [
       "True"
      ]
     },
     "execution_count": 51,
     "metadata": {},
     "output_type": "execute_result"
    }
   ],
   "source": [
    "(p >> q).subs({p:True, q:True})"
   ]
  },
  {
   "cell_type": "code",
   "execution_count": 52,
   "metadata": {
    "collapsed": false,
    "jupyter": {
     "outputs_hidden": false
    }
   },
   "outputs": [
    {
     "data": {
      "text/latex": [
       "$\\displaystyle \\text{True}$"
      ],
      "text/plain": [
       "True"
      ]
     },
     "execution_count": 52,
     "metadata": {},
     "output_type": "execute_result"
    }
   ],
   "source": [
    "(p >> q).subs({p:False, q:False})"
   ]
  },
  {
   "cell_type": "code",
   "execution_count": 53,
   "metadata": {
    "collapsed": false,
    "jupyter": {
     "outputs_hidden": false
    }
   },
   "outputs": [
    {
     "data": {
      "text/latex": [
       "$\\displaystyle \\text{False}$"
      ],
      "text/plain": [
       "False"
      ]
     },
     "execution_count": 53,
     "metadata": {},
     "output_type": "execute_result"
    }
   ],
   "source": [
    "# By definition, the only false conditional\n",
    "(p >> q).subs({p:True, q:False})"
   ]
  },
  {
   "cell_type": "code",
   "execution_count": 54,
   "metadata": {
    "collapsed": false,
    "jupyter": {
     "outputs_hidden": false
    }
   },
   "outputs": [
    {
     "data": {
      "text/latex": [
       "$\\displaystyle \\text{True}$"
      ],
      "text/plain": [
       "True"
      ]
     },
     "execution_count": 54,
     "metadata": {},
     "output_type": "execute_result"
    }
   ],
   "source": [
    "(p >> q).subs({p:False, q:True})"
   ]
  },
  {
   "cell_type": "markdown",
   "metadata": {},
   "source": [
    "So, we've seen the only *false* implication being $ p \\Rightarrow q $, with $ p = \\mathrm{true} $ and $ q = \\mathrm{false} $.  Let's cement this by using an example.  We might have $ p $: \"The wind is blowing from the south.\".  Now, we must get another proposition which is always *false*.  We can imagine being in a place on earth where there is never, ever any hurricanes and so we have $ q $: \"A hurricane is coming.\", which is *false*.<p/>\n",
    "If we now say that if $ p $ then $ q $: \"The wind is blowing from the south, therefor a hurrican is coming.\", then it is *false*. "
   ]
  },
  {
   "cell_type": "markdown",
   "metadata": {},
   "source": [
    "The **biconditional** is the if and only if statement.  It states that $ p $ implies $ q $ and $ q $ implies $ p $.<p/>\n",
    "It is also called **logical equivalence** and uses the symbols $ \\equiv $ or $ \\Leftrightarrow $."
   ]
  },
  {
   "cell_type": "code",
   "execution_count": 55,
   "metadata": {
    "collapsed": false,
    "jupyter": {
     "outputs_hidden": false
    }
   },
   "outputs": [
    {
     "data": {
      "text/latex": [
       "$\\displaystyle \\left(p \\Rightarrow q\\right) \\wedge \\left(q \\Rightarrow p\\right)$"
      ],
      "text/plain": [
       "(Implies(p, q)) & (Implies(q, p))"
      ]
     },
     "execution_count": 55,
     "metadata": {},
     "output_type": "execute_result"
    }
   ],
   "source": [
    "# In sympy notation\n",
    "(p >> q) & (q >> p)"
   ]
  },
  {
   "cell_type": "markdown",
   "metadata": {},
   "source": [
    "The *sympy* truth table looks like this."
   ]
  },
  {
   "cell_type": "code",
   "execution_count": 56,
   "metadata": {
    "collapsed": false,
    "jupyter": {
     "outputs_hidden": false
    }
   },
   "outputs": [
    {
     "data": {
      "text/latex": [
       "$\\displaystyle \\text{True}$"
      ],
      "text/plain": [
       "True"
      ]
     },
     "execution_count": 56,
     "metadata": {},
     "output_type": "execute_result"
    }
   ],
   "source": [
    "((p >> q) & (q >> p)).subs({p:True, q:True})"
   ]
  },
  {
   "cell_type": "code",
   "execution_count": 57,
   "metadata": {
    "collapsed": false,
    "jupyter": {
     "outputs_hidden": false
    }
   },
   "outputs": [
    {
     "data": {
      "text/latex": [
       "$\\displaystyle \\text{True}$"
      ],
      "text/plain": [
       "True"
      ]
     },
     "execution_count": 57,
     "metadata": {},
     "output_type": "execute_result"
    }
   ],
   "source": [
    "((p >> q) & (q >> p)).subs({p:False, q:False})"
   ]
  },
  {
   "cell_type": "code",
   "execution_count": 58,
   "metadata": {
    "collapsed": false,
    "jupyter": {
     "outputs_hidden": false
    }
   },
   "outputs": [
    {
     "data": {
      "text/latex": [
       "$\\displaystyle \\text{False}$"
      ],
      "text/plain": [
       "False"
      ]
     },
     "execution_count": 58,
     "metadata": {},
     "output_type": "execute_result"
    }
   ],
   "source": [
    "((p >> q) & (q >> p)).subs({p:True, q:False})"
   ]
  },
  {
   "cell_type": "code",
   "execution_count": 59,
   "metadata": {
    "collapsed": false,
    "jupyter": {
     "outputs_hidden": false
    }
   },
   "outputs": [
    {
     "data": {
      "text/latex": [
       "$\\displaystyle \\text{False}$"
      ],
      "text/plain": [
       "False"
      ]
     },
     "execution_count": 59,
     "metadata": {},
     "output_type": "execute_result"
    }
   ],
   "source": [
    "((p >> q) & (q >> p)).subs({p:False, q:True})"
   ]
  },
  {
   "cell_type": "markdown",
   "metadata": {},
   "source": [
    "Let's look closer at the first of the two *false* biconditionals, $ \\left( p \\Rightarrow q \\right) \\land \\left( q \\Rightarrow p \\right) $, with $ p = \\mathrm{true} $ and $ q = \\mathrm{false} $.  Note that we have a conjunction, so both $ p \\Rightarrow q $ and $ q \\Rightarrow p $ have to be *true*.<p/>\n",
    "We have seen that $ p \\Rightarrow q $ is *false* for the values of the two propositions, so already the biconditional is *false*.  We use the truth tables of conjunction and implication from above to prove the biconditionals."
   ]
  },
  {
   "cell_type": "markdown",
   "metadata": {},
   "source": [
    "## Precedence"
   ]
  },
  {
   "cell_type": "markdown",
   "metadata": {},
   "source": [
    "Just as in arithmetic where we have an order of execution, i.e. divide and mutiply before subtraction and addition, we have **precedence** in **propositional calculus**.\n",
    "Negation leads the way, followed by conjunctions, then disjunctions, then implications and finally equivalences (boconditionals).<p/>\n",
    "It is useful to make use of orderedd bracketing, i.e. $ \\left\\{ \\left[ \\left( \\right)  \\right] \\right\\} $.  If there are more than three brackets required, we can nest logical sentences in parentheses only.  So $ p \\land \\neg q \\lor r \\Rightarrow s \\land t \\equiv u \\lor v $ becomes $ \\left( \\left( \\left( p\\land \\left( \\neg q \\right)  \\right) \\quad \\lor \\quad r \\right) \\quad \\Rightarrow \\quad \\left( s\\land t \\right)  \\right) \\equiv \\left( u\\lor v \\right)  $."
   ]
  },
  {
   "cell_type": "markdown",
   "metadata": {},
   "source": [
    "## Propositional functions"
   ]
  },
  {
   "cell_type": "markdown",
   "metadata": {},
   "source": [
    "We can construct combinations of logical operators and variables, called **propositional functions**.  We have alreadys een quite a few of these."
   ]
  },
  {
   "cell_type": "code",
   "execution_count": 60,
   "metadata": {},
   "outputs": [],
   "source": [
    "# Another mathematical symbol\n",
    "r = sym.symbols(\"r\")"
   ]
  },
  {
   "cell_type": "markdown",
   "metadata": {},
   "source": [
    "Now we can construct a function, $ f\\left( p,q,r \\right) =\\left( p\\wedge q \\right) \\vee r $.  Let's look at the trurth table of this."
   ]
  },
  {
   "cell_type": "code",
   "execution_count": 61,
   "metadata": {
    "collapsed": false,
    "jupyter": {
     "outputs_hidden": false
    }
   },
   "outputs": [
    {
     "data": {
      "text/latex": [
       "$\\displaystyle r \\vee \\left(p \\wedge q\\right)$"
      ],
      "text/plain": [
       "r | (p & q)"
      ]
     },
     "execution_count": 61,
     "metadata": {},
     "output_type": "execute_result"
    }
   ],
   "source": [
    "(p & q) | r"
   ]
  },
  {
   "cell_type": "code",
   "execution_count": 62,
   "metadata": {
    "collapsed": false,
    "jupyter": {
     "outputs_hidden": false
    }
   },
   "outputs": [
    {
     "data": {
      "text/latex": [
       "$\\displaystyle \\text{True}$"
      ],
      "text/plain": [
       "True"
      ]
     },
     "execution_count": 62,
     "metadata": {},
     "output_type": "execute_result"
    }
   ],
   "source": [
    "((p & q) | r).subs({p:True, q:True, r:True})"
   ]
  },
  {
   "cell_type": "code",
   "execution_count": 63,
   "metadata": {
    "collapsed": false,
    "jupyter": {
     "outputs_hidden": false
    }
   },
   "outputs": [
    {
     "data": {
      "text/latex": [
       "$\\displaystyle \\text{True}$"
      ],
      "text/plain": [
       "True"
      ]
     },
     "execution_count": 63,
     "metadata": {},
     "output_type": "execute_result"
    }
   ],
   "source": [
    "((p & q) | r).subs({p:True, q:True, r:False})"
   ]
  },
  {
   "cell_type": "code",
   "execution_count": 64,
   "metadata": {
    "collapsed": false,
    "jupyter": {
     "outputs_hidden": false
    }
   },
   "outputs": [
    {
     "data": {
      "text/latex": [
       "$\\displaystyle \\text{True}$"
      ],
      "text/plain": [
       "True"
      ]
     },
     "execution_count": 64,
     "metadata": {},
     "output_type": "execute_result"
    }
   ],
   "source": [
    "((p & q) | r).subs({p:True, q:False, r:True})"
   ]
  },
  {
   "cell_type": "code",
   "execution_count": 65,
   "metadata": {
    "collapsed": false,
    "jupyter": {
     "outputs_hidden": false
    }
   },
   "outputs": [
    {
     "data": {
      "text/latex": [
       "$\\displaystyle \\text{True}$"
      ],
      "text/plain": [
       "True"
      ]
     },
     "execution_count": 65,
     "metadata": {},
     "output_type": "execute_result"
    }
   ],
   "source": [
    "((p & q) | r).subs({p:False, q:True, r:True})"
   ]
  },
  {
   "cell_type": "code",
   "execution_count": 66,
   "metadata": {
    "collapsed": false,
    "jupyter": {
     "outputs_hidden": false
    }
   },
   "outputs": [
    {
     "data": {
      "text/latex": [
       "$\\displaystyle \\text{False}$"
      ],
      "text/plain": [
       "False"
      ]
     },
     "execution_count": 66,
     "metadata": {},
     "output_type": "execute_result"
    }
   ],
   "source": [
    "((p & q) | r).subs({p:True, q:False, r:False})"
   ]
  },
  {
   "cell_type": "code",
   "execution_count": 67,
   "metadata": {
    "collapsed": false,
    "jupyter": {
     "outputs_hidden": false
    }
   },
   "outputs": [
    {
     "data": {
      "text/latex": [
       "$\\displaystyle \\text{False}$"
      ],
      "text/plain": [
       "False"
      ]
     },
     "execution_count": 67,
     "metadata": {},
     "output_type": "execute_result"
    }
   ],
   "source": [
    "((p & q) | r).subs({p:False, q:True, r:False})"
   ]
  },
  {
   "cell_type": "code",
   "execution_count": 68,
   "metadata": {
    "collapsed": false,
    "jupyter": {
     "outputs_hidden": false
    }
   },
   "outputs": [
    {
     "data": {
      "text/latex": [
       "$\\displaystyle \\text{False}$"
      ],
      "text/plain": [
       "False"
      ]
     },
     "execution_count": 68,
     "metadata": {},
     "output_type": "execute_result"
    }
   ],
   "source": [
    "((p & q) | r).subs({p:False, q:False, r:False})"
   ]
  },
  {
   "cell_type": "markdown",
   "metadata": {},
   "source": [
    "## Logical equivalence of propositional functions"
   ]
  },
  {
   "cell_type": "markdown",
   "metadata": {},
   "source": [
    "Propositional functions are logically equivalent if they have the same truth tables."
   ]
  },
  {
   "cell_type": "markdown",
   "metadata": {},
   "source": [
    "As an aside, *sympy* can simplify logic statements."
   ]
  },
  {
   "cell_type": "code",
   "execution_count": 69,
   "metadata": {
    "collapsed": false,
    "jupyter": {
     "outputs_hidden": false
    }
   },
   "outputs": [
    {
     "data": {
      "text/plain": [
       "'(~p & ~q & ~r) | (~p & ~q & ~r)'"
      ]
     },
     "execution_count": 69,
     "metadata": {},
     "output_type": "execute_result"
    }
   ],
   "source": [
    "# Creating a logical statement and printing it to the screen\n",
    "statement1 = \"(~p & ~q & ~r) | (~p & ~q & ~r)\"\n",
    "statement1"
   ]
  },
  {
   "cell_type": "code",
   "execution_count": 70,
   "metadata": {
    "collapsed": false,
    "jupyter": {
     "outputs_hidden": false
    }
   },
   "outputs": [
    {
     "data": {
      "text/latex": [
       "$\\displaystyle \\neg p \\wedge \\neg q \\wedge \\neg r$"
      ],
      "text/plain": [
       "~p & ~q & ~r"
      ]
     },
     "execution_count": 70,
     "metadata": {},
     "output_type": "execute_result"
    }
   ],
   "source": [
    "# Using a direct import\n",
    "from sympy.logic import simplify_logic\n",
    "\n",
    "simplify_logic(statement1)"
   ]
  },
  {
   "cell_type": "markdown",
   "metadata": {},
   "source": [
    "Let's see if these two propositional functions are equal $$ f \\left( p,q \\right) = p \\Rightarrow q \\\\ g \\left( p,q \\right) = \\sim p \\vee q $$"
   ]
  },
  {
   "cell_type": "code",
   "execution_count": 71,
   "metadata": {
    "collapsed": false,
    "jupyter": {
     "outputs_hidden": false
    }
   },
   "outputs": [
    {
     "data": {
      "text/plain": [
       "(True, True)"
      ]
     },
     "execution_count": 71,
     "metadata": {},
     "output_type": "execute_result"
    }
   ],
   "source": [
    "(p >> q).subs({p:True, q:True}), (~p | q).subs({p:True, q:True})"
   ]
  },
  {
   "cell_type": "code",
   "execution_count": 72,
   "metadata": {
    "collapsed": false,
    "jupyter": {
     "outputs_hidden": false
    }
   },
   "outputs": [
    {
     "data": {
      "text/plain": [
       "(False, False)"
      ]
     },
     "execution_count": 72,
     "metadata": {},
     "output_type": "execute_result"
    }
   ],
   "source": [
    "(p >> q).subs({p:True, q:False}), (~p | q).subs({p:True, q:False})"
   ]
  },
  {
   "cell_type": "code",
   "execution_count": 73,
   "metadata": {
    "collapsed": false,
    "jupyter": {
     "outputs_hidden": false
    }
   },
   "outputs": [
    {
     "data": {
      "text/plain": [
       "(True, True)"
      ]
     },
     "execution_count": 73,
     "metadata": {},
     "output_type": "execute_result"
    }
   ],
   "source": [
    "(p >> q).subs({p:False, q:True}), (~p | q).subs({p:False, q:True})"
   ]
  },
  {
   "cell_type": "code",
   "execution_count": 74,
   "metadata": {
    "collapsed": false,
    "jupyter": {
     "outputs_hidden": false
    }
   },
   "outputs": [
    {
     "data": {
      "text/plain": [
       "(True, True)"
      ]
     },
     "execution_count": 74,
     "metadata": {},
     "output_type": "execute_result"
    }
   ],
   "source": [
    "(p >> q).subs({p:False, q:False}), (~p | q).subs({p:False, q:False})"
   ]
  },
  {
   "cell_type": "markdown",
   "metadata": {},
   "source": [
    "Since the truth tables as equal, the propositional functions are logically equal."
   ]
  },
  {
   "cell_type": "markdown",
   "metadata": {},
   "source": [
    "We could also use the following syntax."
   ]
  },
  {
   "cell_type": "code",
   "execution_count": 75,
   "metadata": {},
   "outputs": [],
   "source": [
    "f = sym.Function(\"f\")(p, q)\n",
    "g = sym.Function(\"g\")(p, q)"
   ]
  },
  {
   "cell_type": "code",
   "execution_count": 76,
   "metadata": {
    "collapsed": false,
    "jupyter": {
     "outputs_hidden": false
    }
   },
   "outputs": [],
   "source": [
    "f = p >> q\n",
    "g = ~p | q"
   ]
  },
  {
   "cell_type": "code",
   "execution_count": 77,
   "metadata": {
    "collapsed": false,
    "jupyter": {
     "outputs_hidden": false
    }
   },
   "outputs": [
    {
     "data": {
      "text/plain": [
       "True"
      ]
     },
     "execution_count": 77,
     "metadata": {},
     "output_type": "execute_result"
    }
   ],
   "source": [
    "f.subs({p:True, q:True}) == g.subs({p:True, q:True})"
   ]
  },
  {
   "cell_type": "code",
   "execution_count": 78,
   "metadata": {
    "collapsed": false,
    "jupyter": {
     "outputs_hidden": false
    }
   },
   "outputs": [
    {
     "data": {
      "text/plain": [
       "True"
      ]
     },
     "execution_count": 78,
     "metadata": {},
     "output_type": "execute_result"
    }
   ],
   "source": [
    "f.subs({p:True, q:False}) == g.subs({p:True, q:False})"
   ]
  },
  {
   "cell_type": "code",
   "execution_count": 79,
   "metadata": {
    "collapsed": false,
    "jupyter": {
     "outputs_hidden": false
    }
   },
   "outputs": [
    {
     "data": {
      "text/plain": [
       "True"
      ]
     },
     "execution_count": 79,
     "metadata": {},
     "output_type": "execute_result"
    }
   ],
   "source": [
    "f.subs({p:False, q:True}) == g.subs({p:False, q:True})"
   ]
  },
  {
   "cell_type": "code",
   "execution_count": 80,
   "metadata": {
    "collapsed": false,
    "jupyter": {
     "outputs_hidden": false
    }
   },
   "outputs": [
    {
     "data": {
      "text/plain": [
       "True"
      ]
     },
     "execution_count": 80,
     "metadata": {},
     "output_type": "execute_result"
    }
   ],
   "source": [
    "f.subs({p:False, q:False}) == g.subs({p:False, q:False})"
   ]
  },
  {
   "cell_type": "markdown",
   "metadata": {},
   "source": [
    "We write $ f \\equiv g $."
   ]
  },
  {
   "cell_type": "markdown",
   "metadata": {},
   "source": [
    "## A tautology"
   ]
  },
  {
   "cell_type": "markdown",
   "metadata": {},
   "source": [
    "If propositional function is always true irrespective of the value of the propositional variables, the propositional function is said to be a **tautology**."
   ]
  },
  {
   "cell_type": "markdown",
   "metadata": {},
   "source": [
    "Let's look at $ p \\lor \\neg p $."
   ]
  },
  {
   "cell_type": "code",
   "execution_count": 81,
   "metadata": {
    "collapsed": false,
    "jupyter": {
     "outputs_hidden": false
    }
   },
   "outputs": [
    {
     "data": {
      "text/latex": [
       "$\\displaystyle p \\vee \\neg p$"
      ],
      "text/plain": [
       "p | ~p"
      ]
     },
     "execution_count": 81,
     "metadata": {},
     "output_type": "execute_result"
    }
   ],
   "source": [
    "p | (~p)"
   ]
  },
  {
   "cell_type": "code",
   "execution_count": 82,
   "metadata": {
    "collapsed": false,
    "jupyter": {
     "outputs_hidden": false
    }
   },
   "outputs": [
    {
     "data": {
      "text/latex": [
       "$\\displaystyle \\text{True}$"
      ],
      "text/plain": [
       "True"
      ]
     },
     "execution_count": 82,
     "metadata": {},
     "output_type": "execute_result"
    }
   ],
   "source": [
    "(p | (~p)).subs({p:True, q:True})"
   ]
  },
  {
   "cell_type": "code",
   "execution_count": 83,
   "metadata": {
    "collapsed": false,
    "jupyter": {
     "outputs_hidden": false
    }
   },
   "outputs": [
    {
     "data": {
      "text/latex": [
       "$\\displaystyle \\text{True}$"
      ],
      "text/plain": [
       "True"
      ]
     },
     "execution_count": 83,
     "metadata": {},
     "output_type": "execute_result"
    }
   ],
   "source": [
    "(p | (~p)).subs({p:True, q:False})"
   ]
  },
  {
   "cell_type": "code",
   "execution_count": 84,
   "metadata": {
    "collapsed": false,
    "jupyter": {
     "outputs_hidden": false
    }
   },
   "outputs": [
    {
     "data": {
      "text/latex": [
       "$\\displaystyle \\text{True}$"
      ],
      "text/plain": [
       "True"
      ]
     },
     "execution_count": 84,
     "metadata": {},
     "output_type": "execute_result"
    }
   ],
   "source": [
    "(p | (~p)).subs({p:False, q:True})"
   ]
  },
  {
   "cell_type": "code",
   "execution_count": 85,
   "metadata": {
    "collapsed": false,
    "jupyter": {
     "outputs_hidden": false
    }
   },
   "outputs": [
    {
     "data": {
      "text/latex": [
       "$\\displaystyle \\text{True}$"
      ],
      "text/plain": [
       "True"
      ]
     },
     "execution_count": 85,
     "metadata": {},
     "output_type": "execute_result"
    }
   ],
   "source": [
    "(p | (~p)).subs({p:False, q:False})"
   ]
  },
  {
   "cell_type": "markdown",
   "metadata": {},
   "source": [
    "There is a **Theorem** called the **Principle of Substitution**.  Its states that if $ f \\left( p, q, \\dots \\right) $ is a tautology and we construct two functions $ {f}_{1} = \\left( p,q, \\dots \\right) $ and $ {f}_{2} = \\left( p,q, \\dots \\right) $.  Since the truth values of $ p, q, \\dots $ is irrelevent we can substitute $ p $ for $ {f}_{1} $, etc.  So if $ f \\left( p, q, \\dots \\right) $ is a tautology then $ f \\left( {f}_{1}, {f}_{2}, \\dots \\right) $ is a also a tautology for any propositional functions $ {f}_{1}, {f}_{2}, \\dots $."
   ]
  },
  {
   "cell_type": "markdown",
   "metadata": {},
   "source": [
    "## A contradiction or an absurdity"
   ]
  },
  {
   "cell_type": "markdown",
   "metadata": {},
   "source": [
    "A propositional function that is always *false* irrespective of the values of the propositional variables is a **contradiction** or an **absurdity**."
   ]
  },
  {
   "cell_type": "markdown",
   "metadata": {},
   "source": [
    "Note that the negation of a tautology is a contradiction, since it is always false and the negation of a contradiction is a tautology since it is always true."
   ]
  },
  {
   "cell_type": "markdown",
   "metadata": {},
   "source": [
    "## A contingency"
   ]
  },
  {
   "cell_type": "markdown",
   "metadata": {},
   "source": [
    "Propositional functions that are somtimes *true* and sometimes *false* is a **contigency**."
   ]
  },
  {
   "cell_type": "markdown",
   "metadata": {},
   "source": [
    "## The propositional laws of algebra"
   ]
  },
  {
   "cell_type": "markdown",
   "metadata": {},
   "source": [
    "These are similar to the algebraic laws of sets."
   ]
  },
  {
   "cell_type": "markdown",
   "metadata": {},
   "source": [
    "The **idempotent laws** for conjunction and disjunction\n",
    "$$ p \\land p \\equiv p \\\\ p \\lor p \\equiv p $$"
   ]
  },
  {
   "cell_type": "markdown",
   "metadata": {},
   "source": [
    "The **associative laws** for conjunction and disjunction\n",
    "$$  \\left( p \\land q \\right) \\land r \\equiv p \\land \\left( q \\land r \\right) \\\\ \\left( p \\lor q \\right) \\lor r \\equiv p \\lor \\left( q \\lor r \\right) $$"
   ]
  },
  {
   "cell_type": "markdown",
   "metadata": {},
   "source": [
    "The **commutative laws** for conjunction and disjunction\n",
    "$$ p \\land q \\equiv q \\land p \\\\ p \\lor q \\equiv q \\lor p $$"
   ]
  },
  {
   "cell_type": "markdown",
   "metadata": {},
   "source": [
    "The **distributive laws** $$ p \\lor \\left( q \\land r \\right) \\equiv \\left( p \\lor q \\right) \\land \\left( p \\lor r \\right) \\\\ p \\land \\left( q \\lor r \\right) \\equiv \\left( p \\land q \\right) \\lor \\left( p \\land r \\right)  $$"
   ]
  },
  {
   "cell_type": "markdown",
   "metadata": {},
   "source": [
    "The **identity laws** where $ T $ = true and $ F $ = false  $$ p \\lor F \\equiv p \\\\ p \\lor T \\equiv T \\\\ p \\land T \\equiv p \\\\ p \\land F \\equiv F $$"
   ]
  },
  {
   "cell_type": "markdown",
   "metadata": {},
   "source": [
    "The **involution law** $$ \\neg \\neg p \\equiv p $$"
   ]
  },
  {
   "cell_type": "markdown",
   "metadata": {},
   "source": [
    "The **complement laws** $$ p \\land \\neg p \\equiv T \\\\ \\neg T \\equiv F \\\\ p \\land \\neg p \\equiv T \\\\ \\neg F \\equiv T $$"
   ]
  },
  {
   "cell_type": "markdown",
   "metadata": {},
   "source": [
    "The **implication reversal law** or **contrapositive law**\n",
    "$$ \\left( p \\Rightarrow q \\right) \\equiv \\left( \\neg q \\Rightarrow \\neg p \\right) $$"
   ]
  },
  {
   "cell_type": "markdown",
   "metadata": {},
   "source": [
    "**DeMorgan's laws**\n",
    "- DeMorgan's law of conjunction $ \\neg \\left( p \\land q \\right) \\equiv \\neg p \\lor \\neg q $\n",
    "- DeMorgan's law of disjunction $ \\neg \\left( p \\lor q \\right) \\equiv \\neg p \\land \\neg q  $"
   ]
  },
  {
   "cell_type": "markdown",
   "metadata": {},
   "source": [
    "We can use truth tables to prove the laws above.  Let's look at the commutative law of conjunction.  We need to prove equivalence and state that if the truth tables are equivalent then the law must hold.  Let's use *sympy* and see of the truth tables are the same."
   ]
  },
  {
   "cell_type": "code",
   "execution_count": 86,
   "metadata": {
    "collapsed": false,
    "jupyter": {
     "outputs_hidden": false
    }
   },
   "outputs": [
    {
     "data": {
      "text/plain": [
       "(True, True)"
      ]
     },
     "execution_count": 86,
     "metadata": {},
     "output_type": "execute_result"
    }
   ],
   "source": [
    "(p & q).subs({p:True, q: True}), (q & p).subs({p:True, q:True})"
   ]
  },
  {
   "cell_type": "code",
   "execution_count": 87,
   "metadata": {
    "collapsed": false,
    "jupyter": {
     "outputs_hidden": false
    }
   },
   "outputs": [
    {
     "data": {
      "text/plain": [
       "(False, False)"
      ]
     },
     "execution_count": 87,
     "metadata": {},
     "output_type": "execute_result"
    }
   ],
   "source": [
    "(p & q).subs({p:True, q: False}), (q & p).subs({p:True, q:False})"
   ]
  },
  {
   "cell_type": "code",
   "execution_count": 88,
   "metadata": {
    "collapsed": false,
    "jupyter": {
     "outputs_hidden": false
    }
   },
   "outputs": [
    {
     "data": {
      "text/plain": [
       "(False, False)"
      ]
     },
     "execution_count": 88,
     "metadata": {},
     "output_type": "execute_result"
    }
   ],
   "source": [
    "(p & q).subs({p:False, q: True}), (q & p).subs({p:True, q:False})"
   ]
  },
  {
   "cell_type": "code",
   "execution_count": 89,
   "metadata": {
    "collapsed": false,
    "jupyter": {
     "outputs_hidden": false
    }
   },
   "outputs": [
    {
     "data": {
      "text/plain": [
       "(False, False)"
      ]
     },
     "execution_count": 89,
     "metadata": {},
     "output_type": "execute_result"
    }
   ],
   "source": [
    "(p & q).subs({p:False, q: False}), (q & p).subs({p:False, q:False})"
   ]
  },
  {
   "cell_type": "markdown",
   "metadata": {},
   "source": [
    "So, we note that the truth tables are the same.  This proof leaves no room for doubt or dispute and we call it **rigorous**."
   ]
  },
  {
   "cell_type": "markdown",
   "metadata": {},
   "source": [
    "Let's look at proving the contrapositive law, through the use of truth tables."
   ]
  },
  {
   "cell_type": "code",
   "execution_count": 90,
   "metadata": {
    "collapsed": false,
    "jupyter": {
     "outputs_hidden": false
    }
   },
   "outputs": [
    {
     "data": {
      "text/plain": [
       "(True, True)"
      ]
     },
     "execution_count": 90,
     "metadata": {},
     "output_type": "execute_result"
    }
   ],
   "source": [
    "(p >> q).subs({p:True, q:True}), (~q >> ~p).subs({p:True, q:True})"
   ]
  },
  {
   "cell_type": "code",
   "execution_count": 91,
   "metadata": {
    "collapsed": false,
    "jupyter": {
     "outputs_hidden": false
    }
   },
   "outputs": [
    {
     "data": {
      "text/plain": [
       "(False, False)"
      ]
     },
     "execution_count": 91,
     "metadata": {},
     "output_type": "execute_result"
    }
   ],
   "source": [
    "(p >> q).subs({p:True, q:False}), (~q >> ~p).subs({p:True, q:False})"
   ]
  },
  {
   "cell_type": "code",
   "execution_count": 92,
   "metadata": {
    "collapsed": false,
    "jupyter": {
     "outputs_hidden": false
    }
   },
   "outputs": [
    {
     "data": {
      "text/plain": [
       "(True, True)"
      ]
     },
     "execution_count": 92,
     "metadata": {},
     "output_type": "execute_result"
    }
   ],
   "source": [
    "(p >> q).subs({p:False, q:True}), (~q >> ~p).subs({p:False, q:True})"
   ]
  },
  {
   "cell_type": "code",
   "execution_count": 93,
   "metadata": {
    "collapsed": false,
    "jupyter": {
     "outputs_hidden": false
    }
   },
   "outputs": [
    {
     "data": {
      "text/plain": [
       "(True, True)"
      ]
     },
     "execution_count": 93,
     "metadata": {},
     "output_type": "execute_result"
    }
   ],
   "source": [
    "(p >> q).subs({p:False, q:False}), (~q >> ~p).subs({p:False, q:False})"
   ]
  },
  {
   "cell_type": "markdown",
   "metadata": {},
   "source": [
    "We can write: \"Q.E.D.\".  This stands for *Quod erat demonstradum*, which translates into \"Which was to be demonstrated.\".  It is often written at the end of a proof."
   ]
  },
  {
   "cell_type": "markdown",
   "metadata": {},
   "source": [
    "## Arguments"
   ]
  },
  {
   "cell_type": "markdown",
   "metadata": {},
   "source": [
    "An **argument** is an assertion that a given set of propositions, let's call them $ {P}_{1}, {P}_{2}, \\dots, {P}_{n} $, yields another proposition, $ Q $.  The $ {P}_{i} $ propositions are called the **premises** and $ Q $ is called the conclusion.  It is denoted as $$ {P}_{1}, {P}_{2}, \\dots, {P}_{n} \\vdash Q $$"
   ]
  },
  {
   "cell_type": "markdown",
   "metadata": {},
   "source": [
    "This leads us to the defintion of a **logical argment**.  A logical argument is **valid** if $ Q $ is true whenever all the premises, $ {P}_{1}, {P}_{2}, \\dots, {P}_{n} $, are true.  If this is not the case, the logical argument is called a **fallacy** or say that it is **faulty**."
   ]
  },
  {
   "cell_type": "markdown",
   "metadata": {},
   "source": [
    "Let's use *sympy* to construct the premises."
   ]
  },
  {
   "cell_type": "markdown",
   "metadata": {},
   "source": [
    "We start with the following argument, $ p,p \\Rightarrow q \\vdash q  $.  By the way, it is known as the **Law of Detachment**.  We have $ {P}_{1} = p $ and $ {P}_{2} = p \\Rightarrow q $ and the conclusion $ Q = q $."
   ]
  },
  {
   "cell_type": "markdown",
   "metadata": {},
   "source": [
    "Let's start with a truth table."
   ]
  },
  {
   "cell_type": "code",
   "execution_count": 94,
   "metadata": {
    "collapsed": false,
    "jupyter": {
     "outputs_hidden": false
    }
   },
   "outputs": [
    {
     "data": {
      "text/latex": [
       "$\\displaystyle \\text{True}$"
      ],
      "text/plain": [
       "True"
      ]
     },
     "execution_count": 94,
     "metadata": {},
     "output_type": "execute_result"
    }
   ],
   "source": [
    "(p >> q).subs({p:True, q:True})"
   ]
  },
  {
   "cell_type": "code",
   "execution_count": 95,
   "metadata": {
    "collapsed": false,
    "jupyter": {
     "outputs_hidden": false
    }
   },
   "outputs": [
    {
     "data": {
      "text/latex": [
       "$\\displaystyle \\text{False}$"
      ],
      "text/plain": [
       "False"
      ]
     },
     "execution_count": 95,
     "metadata": {},
     "output_type": "execute_result"
    }
   ],
   "source": [
    "(p >> q).subs({p:True, q:False})"
   ]
  },
  {
   "cell_type": "code",
   "execution_count": 96,
   "metadata": {
    "collapsed": false,
    "jupyter": {
     "outputs_hidden": false
    }
   },
   "outputs": [
    {
     "data": {
      "text/latex": [
       "$\\displaystyle \\text{True}$"
      ],
      "text/plain": [
       "True"
      ]
     },
     "execution_count": 96,
     "metadata": {},
     "output_type": "execute_result"
    }
   ],
   "source": [
    "(p >> q).subs({p:False, q:True})"
   ]
  },
  {
   "cell_type": "code",
   "execution_count": 97,
   "metadata": {
    "collapsed": false,
    "jupyter": {
     "outputs_hidden": false
    }
   },
   "outputs": [
    {
     "data": {
      "text/latex": [
       "$\\displaystyle \\text{True}$"
      ],
      "text/plain": [
       "True"
      ]
     },
     "execution_count": 97,
     "metadata": {},
     "output_type": "execute_result"
    }
   ],
   "source": [
    "(p >> q).subs({p:False, q:False})"
   ]
  },
  {
   "cell_type": "markdown",
   "metadata": {},
   "source": [
    "Now, let's take a closer look at ```(p >> q).subs({p:True, q:True})``` which returned a ```True```.  So for the propositions we had $ {P}_{1} = p $, with $ p = $ *true* and $ {P}_{2} = p \\Rightarrow q $, with $ p = $ *true* and $ q = $ *true* and the conclusion being *true* as well ($ q = $*true*).  A valid argument.<p/>\n",
    "In *sympy* we can construct the following."
   ]
  },
  {
   "cell_type": "code",
   "execution_count": 98,
   "metadata": {
    "collapsed": false,
    "jupyter": {
     "outputs_hidden": false
    }
   },
   "outputs": [],
   "source": [
    "# Direct import of a function\n",
    "from sympy.logic.inference import satisfiable"
   ]
  },
  {
   "cell_type": "code",
   "execution_count": 99,
   "metadata": {
    "collapsed": false,
    "jupyter": {
     "outputs_hidden": false
    }
   },
   "outputs": [
    {
     "data": {
      "text/latex": [
       "$\\displaystyle p \\wedge \\left(p \\Rightarrow q\\right)$"
      ],
      "text/plain": [
       "p & (Implies(p, q))"
      ]
     },
     "execution_count": 99,
     "metadata": {},
     "output_type": "execute_result"
    }
   ],
   "source": [
    "p & (p >> q)"
   ]
  },
  {
   "cell_type": "markdown",
   "metadata": {},
   "source": [
    "We can check if this logical argument is a valid argument or a fallacy."
   ]
  },
  {
   "cell_type": "code",
   "execution_count": 100,
   "metadata": {
    "collapsed": false,
    "jupyter": {
     "outputs_hidden": false
    }
   },
   "outputs": [
    {
     "data": {
      "text/plain": [
       "{p: True, q: True}"
      ]
     },
     "execution_count": 100,
     "metadata": {},
     "output_type": "execute_result"
    }
   ],
   "source": [
    "satisfiable(p & (p >> q))"
   ]
  },
  {
   "cell_type": "markdown",
   "metadata": {},
   "source": [
    "As explained above, yes it can be a valid argument if $ p $ is *true* and $ q $ is true."
   ]
  },
  {
   "cell_type": "markdown",
   "metadata": {},
   "source": [
    "Now let's look at $ p \\Rightarrow q, q \\vdash p $."
   ]
  },
  {
   "cell_type": "code",
   "execution_count": 101,
   "metadata": {
    "collapsed": false,
    "jupyter": {
     "outputs_hidden": false
    }
   },
   "outputs": [
    {
     "data": {
      "text/latex": [
       "$\\displaystyle q \\wedge \\left(p \\Rightarrow q\\right)$"
      ],
      "text/plain": [
       "q & (Implies(p, q))"
      ]
     },
     "execution_count": 101,
     "metadata": {},
     "output_type": "execute_result"
    }
   ],
   "source": [
    "(p >> q) & q"
   ]
  },
  {
   "cell_type": "code",
   "execution_count": 102,
   "metadata": {
    "collapsed": false,
    "jupyter": {
     "outputs_hidden": false
    }
   },
   "outputs": [
    {
     "data": {
      "text/plain": [
       "{q: True, p: False}"
      ]
     },
     "execution_count": 102,
     "metadata": {},
     "output_type": "execute_result"
    }
   ],
   "source": [
    "satisfiable((p >> q) & q)"
   ]
  },
  {
   "cell_type": "markdown",
   "metadata": {},
   "source": [
    "Note, though that for this argument to have a *true* conclusion, $ p $ must be false and since $ p $ is the conclusion $ Q $, we cannot get a valid argument."
   ]
  },
  {
   "cell_type": "markdown",
   "metadata": {},
   "source": [
    "This leads us to an easy **Theorem**, namely $ {P}_{1}, {P}_{2}, \\dots {P}_{n} \\vdash Q $ is a valid argument if and only if the proposition $ \\left( {P}_{1} \\land {P}_{2} \\land \\dots \\land {P}_{n} \\right) \\vdash Q $ is a tautology."
   ]
  },
  {
   "cell_type": "markdown",
   "metadata": {},
   "source": [
    "Lastly, we have the **Law of Syllogism**, which states that if $ p $ implies $ q $ and $ q $ implies $ r $, then $ p $ implies $ r $.  As a logical argument we write $$ p \\Rightarrow q, q \\Rightarrow r \\vdash p \\Rightarrow r $$"
   ]
  },
  {
   "cell_type": "markdown",
   "metadata": {},
   "source": [
    "By our **Theorem** above we have $$ \\left[ \\left( p \\Rightarrow q \\right) \\land \\left( p \\Rightarrow r \\right) \\right] \\Rightarrow \\left( p \\Rightarrow r \\right) $$"
   ]
  },
  {
   "cell_type": "markdown",
   "metadata": {},
   "source": [
    "We can check whether we can get a valid argument from this."
   ]
  },
  {
   "cell_type": "code",
   "execution_count": 103,
   "metadata": {
    "collapsed": false,
    "jupyter": {
     "outputs_hidden": false
    }
   },
   "outputs": [
    {
     "data": {
      "text/plain": [
       "{r: True, q: False, p: False}"
      ]
     },
     "execution_count": 103,
     "metadata": {},
     "output_type": "execute_result"
    }
   ],
   "source": [
    "satisfiable((p >> q) & (q >> r))"
   ]
  },
  {
   "cell_type": "markdown",
   "metadata": {},
   "source": [
    "Here is an example of an argument\n",
    "- $ {P}_{1} $ : If an appendix is inflamed, it has appendicitis\n",
    "- $ {P}_{2} $ : If an appendix has appendicitis, it must be removed\n",
    "<p/>\n",
    "- $ Q $ : If inflamed, it comes out"
   ]
  },
  {
   "cell_type": "markdown",
   "metadata": {},
   "source": [
    "## The rules of inference"
   ]
  },
  {
   "cell_type": "markdown",
   "metadata": {},
   "source": [
    "With what we know now, let's just revisit the conditional statements.  There are some rules of inference that we should take a closer look at.  We will make sure that they are all tautologies.  In the notation above we have $ P \\vdash Q $ and $ P \\Rightarrow Q $.  I will use the latter in this section."
   ]
  },
  {
   "cell_type": "markdown",
   "metadata": {},
   "source": [
    "The first is **addition**.  It is stated as $ p \\Rightarrow \\left( p \\lor q \\right) $ or then $ p \\vdash \\left( p \\lor q \\right) $.  In *sympy* we have the truth table below."
   ]
  },
  {
   "cell_type": "code",
   "execution_count": 104,
   "metadata": {
    "collapsed": false,
    "jupyter": {
     "outputs_hidden": false
    }
   },
   "outputs": [
    {
     "data": {
      "text/latex": [
       "$\\displaystyle p \\Rightarrow \\left(p \\vee q\\right)$"
      ],
      "text/plain": [
       "Implies(p, p | q)"
      ]
     },
     "execution_count": 104,
     "metadata": {},
     "output_type": "execute_result"
    }
   ],
   "source": [
    "p >> (p | q)"
   ]
  },
  {
   "cell_type": "code",
   "execution_count": 105,
   "metadata": {
    "collapsed": false,
    "jupyter": {
     "outputs_hidden": false
    }
   },
   "outputs": [
    {
     "data": {
      "text/latex": [
       "$\\displaystyle \\text{True}$"
      ],
      "text/plain": [
       "True"
      ]
     },
     "execution_count": 105,
     "metadata": {},
     "output_type": "execute_result"
    }
   ],
   "source": [
    "(p >> (p | q)).subs({p:True, q:True})"
   ]
  },
  {
   "cell_type": "code",
   "execution_count": 106,
   "metadata": {
    "collapsed": false,
    "jupyter": {
     "outputs_hidden": false
    }
   },
   "outputs": [
    {
     "data": {
      "text/latex": [
       "$\\displaystyle \\text{True}$"
      ],
      "text/plain": [
       "True"
      ]
     },
     "execution_count": 106,
     "metadata": {},
     "output_type": "execute_result"
    }
   ],
   "source": [
    "(p >> (p | q)).subs({p:True, q:False})"
   ]
  },
  {
   "cell_type": "code",
   "execution_count": 107,
   "metadata": {
    "collapsed": false,
    "jupyter": {
     "outputs_hidden": false
    }
   },
   "outputs": [
    {
     "data": {
      "text/latex": [
       "$\\displaystyle \\text{True}$"
      ],
      "text/plain": [
       "True"
      ]
     },
     "execution_count": 107,
     "metadata": {},
     "output_type": "execute_result"
    }
   ],
   "source": [
    "(p >> (p | q)).subs({p:False, q:True})"
   ]
  },
  {
   "cell_type": "code",
   "execution_count": 108,
   "metadata": {
    "collapsed": false,
    "jupyter": {
     "outputs_hidden": false
    }
   },
   "outputs": [
    {
     "data": {
      "text/latex": [
       "$\\displaystyle \\text{True}$"
      ],
      "text/plain": [
       "True"
      ]
     },
     "execution_count": 108,
     "metadata": {},
     "output_type": "execute_result"
    }
   ],
   "source": [
    "(p >> (p | q)).subs({p:False, q:False})"
   ]
  },
  {
   "cell_type": "markdown",
   "metadata": {},
   "source": [
    "Thus, a tautology."
   ]
  },
  {
   "cell_type": "markdown",
   "metadata": {},
   "source": [
    "Next is **simplification**.  It is stated as $ \\left( p \\land q \\right) \\Rightarrow p $."
   ]
  },
  {
   "cell_type": "code",
   "execution_count": 109,
   "metadata": {
    "collapsed": false,
    "jupyter": {
     "outputs_hidden": false
    }
   },
   "outputs": [
    {
     "data": {
      "text/latex": [
       "$\\displaystyle \\left(p \\wedge q\\right) \\Rightarrow p$"
      ],
      "text/plain": [
       "Implies(p & q, p)"
      ]
     },
     "execution_count": 109,
     "metadata": {},
     "output_type": "execute_result"
    }
   ],
   "source": [
    "(p & q) >> p"
   ]
  },
  {
   "cell_type": "code",
   "execution_count": 110,
   "metadata": {
    "collapsed": false,
    "jupyter": {
     "outputs_hidden": false
    }
   },
   "outputs": [
    {
     "data": {
      "text/latex": [
       "$\\displaystyle \\text{True}$"
      ],
      "text/plain": [
       "True"
      ]
     },
     "execution_count": 110,
     "metadata": {},
     "output_type": "execute_result"
    }
   ],
   "source": [
    "((p & q) >> p).subs({p:True, q:True})"
   ]
  },
  {
   "cell_type": "code",
   "execution_count": 111,
   "metadata": {
    "collapsed": false,
    "jupyter": {
     "outputs_hidden": false
    }
   },
   "outputs": [
    {
     "data": {
      "text/latex": [
       "$\\displaystyle \\text{True}$"
      ],
      "text/plain": [
       "True"
      ]
     },
     "execution_count": 111,
     "metadata": {},
     "output_type": "execute_result"
    }
   ],
   "source": [
    "((p & q) >> p).subs({p:True, q:False})"
   ]
  },
  {
   "cell_type": "code",
   "execution_count": 112,
   "metadata": {
    "collapsed": false,
    "jupyter": {
     "outputs_hidden": false
    }
   },
   "outputs": [
    {
     "data": {
      "text/latex": [
       "$\\displaystyle \\text{True}$"
      ],
      "text/plain": [
       "True"
      ]
     },
     "execution_count": 112,
     "metadata": {},
     "output_type": "execute_result"
    }
   ],
   "source": [
    "((p & q) >> p).subs({p:False, q:True})"
   ]
  },
  {
   "cell_type": "code",
   "execution_count": 113,
   "metadata": {
    "collapsed": false,
    "jupyter": {
     "outputs_hidden": false
    }
   },
   "outputs": [
    {
     "data": {
      "text/latex": [
       "$\\displaystyle \\text{True}$"
      ],
      "text/plain": [
       "True"
      ]
     },
     "execution_count": 113,
     "metadata": {},
     "output_type": "execute_result"
    }
   ],
   "source": [
    "((p & q) >> p).subs({p:False, q:False})"
   ]
  },
  {
   "cell_type": "markdown",
   "metadata": {},
   "source": [
    "Next up, **modus ponence**.  It is stated as $ \\left[ p \\land \\left( p \\Rightarrow q \\right) \\right] \\Rightarrow q $."
   ]
  },
  {
   "cell_type": "code",
   "execution_count": 114,
   "metadata": {
    "collapsed": false,
    "jupyter": {
     "outputs_hidden": false
    }
   },
   "outputs": [
    {
     "data": {
      "text/latex": [
       "$\\displaystyle \\left(p \\wedge \\left(p \\Rightarrow q\\right)\\right) \\Rightarrow q$"
      ],
      "text/plain": [
       "Implies(p & (Implies(p, q)), q)"
      ]
     },
     "execution_count": 114,
     "metadata": {},
     "output_type": "execute_result"
    }
   ],
   "source": [
    "(p & (p >> q)) >> q"
   ]
  },
  {
   "cell_type": "code",
   "execution_count": 115,
   "metadata": {
    "collapsed": false,
    "jupyter": {
     "outputs_hidden": false
    }
   },
   "outputs": [
    {
     "data": {
      "text/latex": [
       "$\\displaystyle \\text{True}$"
      ],
      "text/plain": [
       "True"
      ]
     },
     "execution_count": 115,
     "metadata": {},
     "output_type": "execute_result"
    }
   ],
   "source": [
    "((p & (p >> q)) >> q).subs({p:True, q:True})"
   ]
  },
  {
   "cell_type": "code",
   "execution_count": 116,
   "metadata": {
    "collapsed": false,
    "jupyter": {
     "outputs_hidden": false
    }
   },
   "outputs": [
    {
     "data": {
      "text/latex": [
       "$\\displaystyle \\text{True}$"
      ],
      "text/plain": [
       "True"
      ]
     },
     "execution_count": 116,
     "metadata": {},
     "output_type": "execute_result"
    }
   ],
   "source": [
    "((p & (p >> q)) >> q).subs({p:True, q:False})"
   ]
  },
  {
   "cell_type": "code",
   "execution_count": 117,
   "metadata": {
    "collapsed": false,
    "jupyter": {
     "outputs_hidden": false
    }
   },
   "outputs": [
    {
     "data": {
      "text/latex": [
       "$\\displaystyle \\text{True}$"
      ],
      "text/plain": [
       "True"
      ]
     },
     "execution_count": 117,
     "metadata": {},
     "output_type": "execute_result"
    }
   ],
   "source": [
    "((p & (p >> q)) >> q).subs({p:False, q:True})"
   ]
  },
  {
   "cell_type": "code",
   "execution_count": 118,
   "metadata": {
    "collapsed": false,
    "jupyter": {
     "outputs_hidden": false
    }
   },
   "outputs": [
    {
     "data": {
      "text/latex": [
       "$\\displaystyle \\text{True}$"
      ],
      "text/plain": [
       "True"
      ]
     },
     "execution_count": 118,
     "metadata": {},
     "output_type": "execute_result"
    }
   ],
   "source": [
    "((p & (p >> q)) >> q).subs({p:False, q:False})"
   ]
  },
  {
   "cell_type": "markdown",
   "metadata": {},
   "source": [
    "Next up, **modus tollence**.  It is stated as $ \\neg q \\land \\left( p \\Rightarrow q \\right) \\Rightarrow \\neg p $."
   ]
  },
  {
   "cell_type": "code",
   "execution_count": 119,
   "metadata": {
    "collapsed": false,
    "jupyter": {
     "outputs_hidden": false
    }
   },
   "outputs": [
    {
     "data": {
      "text/latex": [
       "$\\displaystyle \\left(\\left(p \\Rightarrow q\\right) \\wedge \\neg p\\right) \\Rightarrow \\neg p$"
      ],
      "text/plain": [
       "Implies(~p & (Implies(p, q)), ~p)"
      ]
     },
     "execution_count": 119,
     "metadata": {},
     "output_type": "execute_result"
    }
   ],
   "source": [
    "(~p & (p >> q)) >> ~p"
   ]
  },
  {
   "cell_type": "code",
   "execution_count": 120,
   "metadata": {
    "collapsed": false,
    "jupyter": {
     "outputs_hidden": false
    }
   },
   "outputs": [
    {
     "data": {
      "text/latex": [
       "$\\displaystyle \\text{True}$"
      ],
      "text/plain": [
       "True"
      ]
     },
     "execution_count": 120,
     "metadata": {},
     "output_type": "execute_result"
    }
   ],
   "source": [
    "((~p & (p >> q)) >> ~p).subs({p:True, q:True})"
   ]
  },
  {
   "cell_type": "code",
   "execution_count": 121,
   "metadata": {
    "collapsed": false,
    "jupyter": {
     "outputs_hidden": false
    }
   },
   "outputs": [
    {
     "data": {
      "text/latex": [
       "$\\displaystyle \\text{True}$"
      ],
      "text/plain": [
       "True"
      ]
     },
     "execution_count": 121,
     "metadata": {},
     "output_type": "execute_result"
    }
   ],
   "source": [
    "((~p & (p >> q)) >> ~p).subs({p:True, q:False})"
   ]
  },
  {
   "cell_type": "code",
   "execution_count": 122,
   "metadata": {
    "collapsed": false,
    "jupyter": {
     "outputs_hidden": false
    }
   },
   "outputs": [
    {
     "data": {
      "text/latex": [
       "$\\displaystyle \\text{True}$"
      ],
      "text/plain": [
       "True"
      ]
     },
     "execution_count": 122,
     "metadata": {},
     "output_type": "execute_result"
    }
   ],
   "source": [
    "((~p & (p >> q)) >> ~p).subs({p:False, q:True})"
   ]
  },
  {
   "cell_type": "code",
   "execution_count": 123,
   "metadata": {
    "collapsed": false,
    "jupyter": {
     "outputs_hidden": false
    }
   },
   "outputs": [
    {
     "data": {
      "text/latex": [
       "$\\displaystyle \\text{True}$"
      ],
      "text/plain": [
       "True"
      ]
     },
     "execution_count": 123,
     "metadata": {},
     "output_type": "execute_result"
    }
   ],
   "source": [
    "((~p & (p >> q)) >> ~p).subs({p:False, q:False})"
   ]
  },
  {
   "cell_type": "markdown",
   "metadata": {},
   "source": [
    "Next up, the **disjunctive syllogism**.  It is stated as $ \\left( p \\lor q \\right) \\land \\neg p \\Rightarrow q $."
   ]
  },
  {
   "cell_type": "code",
   "execution_count": 124,
   "metadata": {
    "collapsed": false,
    "jupyter": {
     "outputs_hidden": false
    }
   },
   "outputs": [
    {
     "data": {
      "text/latex": [
       "$\\displaystyle \\left(\\neg p \\wedge \\left(p \\vee q\\right)\\right) \\Rightarrow q$"
      ],
      "text/plain": [
       "Implies(~p & (p | q), q)"
      ]
     },
     "execution_count": 124,
     "metadata": {},
     "output_type": "execute_result"
    }
   ],
   "source": [
    "((p | q) & ~p) >> q"
   ]
  },
  {
   "cell_type": "code",
   "execution_count": 125,
   "metadata": {
    "collapsed": false,
    "jupyter": {
     "outputs_hidden": false
    }
   },
   "outputs": [
    {
     "data": {
      "text/latex": [
       "$\\displaystyle \\text{True}$"
      ],
      "text/plain": [
       "True"
      ]
     },
     "execution_count": 125,
     "metadata": {},
     "output_type": "execute_result"
    }
   ],
   "source": [
    "(((p | q) & ~p) >> q).subs({p:True, q:True})"
   ]
  },
  {
   "cell_type": "code",
   "execution_count": 126,
   "metadata": {
    "collapsed": false,
    "jupyter": {
     "outputs_hidden": false
    }
   },
   "outputs": [
    {
     "data": {
      "text/latex": [
       "$\\displaystyle \\text{True}$"
      ],
      "text/plain": [
       "True"
      ]
     },
     "execution_count": 126,
     "metadata": {},
     "output_type": "execute_result"
    }
   ],
   "source": [
    "(((p | q) & ~p) >> q).subs({p:True, q:False})"
   ]
  },
  {
   "cell_type": "code",
   "execution_count": 127,
   "metadata": {
    "collapsed": false,
    "jupyter": {
     "outputs_hidden": false
    }
   },
   "outputs": [
    {
     "data": {
      "text/latex": [
       "$\\displaystyle \\text{True}$"
      ],
      "text/plain": [
       "True"
      ]
     },
     "execution_count": 127,
     "metadata": {},
     "output_type": "execute_result"
    }
   ],
   "source": [
    "(((p | q) & ~p) >> q).subs({p:False, q:True})"
   ]
  },
  {
   "cell_type": "code",
   "execution_count": 128,
   "metadata": {
    "collapsed": false,
    "jupyter": {
     "outputs_hidden": false
    }
   },
   "outputs": [
    {
     "data": {
      "text/latex": [
       "$\\displaystyle \\text{True}$"
      ],
      "text/plain": [
       "True"
      ]
     },
     "execution_count": 128,
     "metadata": {},
     "output_type": "execute_result"
    }
   ],
   "source": [
    "(((p | q) & ~p) >> q).subs({p:False, q:False})"
   ]
  },
  {
   "cell_type": "markdown",
   "metadata": {},
   "source": [
    "We have already seen **pathological syllogism**, only we called it the **Law of syllogism**."
   ]
  },
  {
   "cell_type": "markdown",
   "metadata": {},
   "source": [
    "Next up, the **constructive dilemma**.  It is stated as $ \\left[ \\left( p \\Rightarrow q \\right) \\land \\left( r \\Rightarrow s \\right) \\land \\left( p \\lor r \\right) \\right] \\Rightarrow q \\lor s $."
   ]
  },
  {
   "cell_type": "markdown",
   "metadata": {},
   "source": [
    "Lastly, the **destructive dilemma**.  It is stated as $ \\left[ \\left( p \\Rightarrow q \\right) \\land \\left( r \\Rightarrow s \\right) \\land \\left( \\neg q \\lor \\neg s  \\right) \\right] \\Rightarrow \\neg p \\lor \\neg r $."
   ]
  },
  {
   "cell_type": "markdown",
   "metadata": {},
   "source": [
    "## Common fallacies"
   ]
  },
  {
   "cell_type": "markdown",
   "metadata": {},
   "source": [
    "First up we have the fallacy of **affirming the consequent**.  It is also referred to as the **converse error**, **fallacy of the converse** or **confusion of necessity and sufficiency** and is the formal fallacy of inferring the converse from the original statement.  Instead of stating it, let's just see it in *sympy* and look at its truth table."
   ]
  },
  {
   "cell_type": "code",
   "execution_count": 129,
   "metadata": {
    "collapsed": false,
    "jupyter": {
     "outputs_hidden": false
    }
   },
   "outputs": [
    {
     "data": {
      "text/latex": [
       "$\\displaystyle \\left(q \\wedge \\left(p \\Rightarrow q\\right)\\right) \\Rightarrow p$"
      ],
      "text/plain": [
       "Implies(q & (Implies(p, q)), p)"
      ]
     },
     "execution_count": 129,
     "metadata": {},
     "output_type": "execute_result"
    }
   ],
   "source": [
    "((p >> q) & q) >> p"
   ]
  },
  {
   "cell_type": "code",
   "execution_count": 130,
   "metadata": {
    "collapsed": false,
    "jupyter": {
     "outputs_hidden": false
    }
   },
   "outputs": [
    {
     "data": {
      "text/latex": [
       "$\\displaystyle \\text{True}$"
      ],
      "text/plain": [
       "True"
      ]
     },
     "execution_count": 130,
     "metadata": {},
     "output_type": "execute_result"
    }
   ],
   "source": [
    "(((p >> q) & q) >> p).subs({p:True, q:True})"
   ]
  },
  {
   "cell_type": "code",
   "execution_count": 131,
   "metadata": {
    "collapsed": false,
    "jupyter": {
     "outputs_hidden": false
    }
   },
   "outputs": [
    {
     "data": {
      "text/latex": [
       "$\\displaystyle \\text{True}$"
      ],
      "text/plain": [
       "True"
      ]
     },
     "execution_count": 131,
     "metadata": {},
     "output_type": "execute_result"
    }
   ],
   "source": [
    "(((p >> q) & q) >> p).subs({p:True, q:False})"
   ]
  },
  {
   "cell_type": "code",
   "execution_count": 132,
   "metadata": {
    "collapsed": false,
    "jupyter": {
     "outputs_hidden": false
    }
   },
   "outputs": [
    {
     "data": {
      "text/latex": [
       "$\\displaystyle \\text{False}$"
      ],
      "text/plain": [
       "False"
      ]
     },
     "execution_count": 132,
     "metadata": {},
     "output_type": "execute_result"
    }
   ],
   "source": [
    "((p >> q & q) >> p).subs({p:False, q:True})"
   ]
  },
  {
   "cell_type": "code",
   "execution_count": 133,
   "metadata": {
    "collapsed": false,
    "jupyter": {
     "outputs_hidden": false
    }
   },
   "outputs": [
    {
     "data": {
      "text/latex": [
       "$\\displaystyle \\text{True}$"
      ],
      "text/plain": [
       "True"
      ]
     },
     "execution_count": 133,
     "metadata": {},
     "output_type": "execute_result"
    }
   ],
   "source": [
    "(((p >> q) & q) >> p).subs({p:False, q:False})"
   ]
  },
  {
   "cell_type": "markdown",
   "metadata": {},
   "source": [
    "This is not a tautology and the inference we stated above is not valid."
   ]
  },
  {
   "cell_type": "markdown",
   "metadata": {},
   "source": [
    "If we construct an example, we write the following:\n",
    "- p : The value of the dollar is rising\n",
    "- q : Inflations is going to rise\n",
    "- $ p \\Rightarrow q $ : If the price of the dollar is rising, then inflation is going to rise.\n",
    "- q : Inflation is going rising\n",
    "- p : The price of the dollar is rising"
   ]
  },
  {
   "cell_type": "markdown",
   "metadata": {},
   "source": [
    "So if $ P $ is \"If the value fo the dollar is rising implies that inflation is going to rise and if inflation is going to rise\" implies $ Q $ which is \"The price of the dollar is rising\" and $ p $ is *false* (the dollar is not rising) and $ q $ is *true* (inflation is going to rise), then the inference is not valid."
   ]
  },
  {
   "cell_type": "markdown",
   "metadata": {},
   "source": [
    "Next up is the fallacy of **denying the antecedent**. It is also referred to as the **inverse error** or **fallacy of the inverse** and the formal fallacy of inferring the inverse from the original statement."
   ]
  },
  {
   "cell_type": "code",
   "execution_count": 134,
   "metadata": {
    "collapsed": false,
    "jupyter": {
     "outputs_hidden": false
    }
   },
   "outputs": [
    {
     "data": {
      "text/latex": [
       "$\\displaystyle \\left(\\left(p \\Rightarrow q\\right) \\wedge \\neg p\\right) \\Rightarrow \\neg q$"
      ],
      "text/plain": [
       "Implies(~p & (Implies(p, q)), ~q)"
      ]
     },
     "execution_count": 134,
     "metadata": {},
     "output_type": "execute_result"
    }
   ],
   "source": [
    "((p >> q) & ~p) >> ~q"
   ]
  },
  {
   "cell_type": "code",
   "execution_count": 135,
   "metadata": {
    "collapsed": false,
    "jupyter": {
     "outputs_hidden": false
    }
   },
   "outputs": [
    {
     "data": {
      "text/latex": [
       "$\\displaystyle \\text{True}$"
      ],
      "text/plain": [
       "True"
      ]
     },
     "execution_count": 135,
     "metadata": {},
     "output_type": "execute_result"
    }
   ],
   "source": [
    "(((p >> q) & ~p) >> ~q).subs({p:True, q:True})"
   ]
  },
  {
   "cell_type": "code",
   "execution_count": 136,
   "metadata": {
    "collapsed": false,
    "jupyter": {
     "outputs_hidden": false
    }
   },
   "outputs": [
    {
     "data": {
      "text/latex": [
       "$\\displaystyle \\text{True}$"
      ],
      "text/plain": [
       "True"
      ]
     },
     "execution_count": 136,
     "metadata": {},
     "output_type": "execute_result"
    }
   ],
   "source": [
    "(((p >> q) & ~p) >> ~q).subs({p:True, q:False})"
   ]
  },
  {
   "cell_type": "code",
   "execution_count": 137,
   "metadata": {
    "collapsed": false,
    "jupyter": {
     "outputs_hidden": false
    }
   },
   "outputs": [
    {
     "data": {
      "text/latex": [
       "$\\displaystyle \\text{False}$"
      ],
      "text/plain": [
       "False"
      ]
     },
     "execution_count": 137,
     "metadata": {},
     "output_type": "execute_result"
    }
   ],
   "source": [
    "(((p >> q) & ~p) >> ~q).subs({p:False, q:True})"
   ]
  },
  {
   "cell_type": "code",
   "execution_count": 138,
   "metadata": {
    "collapsed": false,
    "jupyter": {
     "outputs_hidden": false
    }
   },
   "outputs": [
    {
     "data": {
      "text/latex": [
       "$\\displaystyle \\text{True}$"
      ],
      "text/plain": [
       "True"
      ]
     },
     "execution_count": 138,
     "metadata": {},
     "output_type": "execute_result"
    }
   ],
   "source": [
    "(((p >> q) & ~p) >> ~q).subs({p:False, q:False})"
   ]
  },
  {
   "cell_type": "markdown",
   "metadata": {},
   "source": [
    "Last up, the **non-sequitur**.  This is a conclusion or statement that does not logically follow from the previous argument or statement.  Most commonly they are two separate statements."
   ]
  },
  {
   "cell_type": "markdown",
   "metadata": {},
   "source": [
    "We would write $ p \\Rightarrow q $ where $ p $ and $ q $ are two different statements."
   ]
  },
  {
   "cell_type": "code",
   "execution_count": 139,
   "metadata": {
    "collapsed": false,
    "jupyter": {
     "outputs_hidden": false
    }
   },
   "outputs": [
    {
     "data": {
      "text/latex": [
       "$\\displaystyle \\text{True}$"
      ],
      "text/plain": [
       "True"
      ]
     },
     "execution_count": 139,
     "metadata": {},
     "output_type": "execute_result"
    }
   ],
   "source": [
    "(p >> q).subs({p:True, q:True})"
   ]
  },
  {
   "cell_type": "code",
   "execution_count": 140,
   "metadata": {
    "collapsed": false,
    "jupyter": {
     "outputs_hidden": false
    }
   },
   "outputs": [
    {
     "data": {
      "text/latex": [
       "$\\displaystyle \\text{False}$"
      ],
      "text/plain": [
       "False"
      ]
     },
     "execution_count": 140,
     "metadata": {},
     "output_type": "execute_result"
    }
   ],
   "source": [
    "(p >> q).subs({p:True, q:False})"
   ]
  },
  {
   "cell_type": "code",
   "execution_count": 141,
   "metadata": {
    "collapsed": false,
    "jupyter": {
     "outputs_hidden": false
    }
   },
   "outputs": [
    {
     "data": {
      "text/latex": [
       "$\\displaystyle \\text{True}$"
      ],
      "text/plain": [
       "True"
      ]
     },
     "execution_count": 141,
     "metadata": {},
     "output_type": "execute_result"
    }
   ],
   "source": [
    "(p >> q).subs({p:False, q:True})"
   ]
  },
  {
   "cell_type": "code",
   "execution_count": 142,
   "metadata": {
    "collapsed": false,
    "jupyter": {
     "outputs_hidden": false
    }
   },
   "outputs": [
    {
     "data": {
      "text/latex": [
       "$\\displaystyle \\text{True}$"
      ],
      "text/plain": [
       "True"
      ]
     },
     "execution_count": 142,
     "metadata": {},
     "output_type": "execute_result"
    }
   ],
   "source": [
    "(p >> q).subs({p:False, q:False})"
   ]
  },
  {
   "cell_type": "markdown",
   "metadata": {},
   "source": [
    "## The *sympy* Q class"
   ]
  },
  {
   "cell_type": "markdown",
   "metadata": {},
   "source": [
    "*Sympy* has the ```Q``` class used with the ```.ask()``` function.  Below we have two examples."
   ]
  },
  {
   "cell_type": "code",
   "execution_count": 143,
   "metadata": {
    "collapsed": false,
    "jupyter": {
     "outputs_hidden": false
    }
   },
   "outputs": [
    {
     "data": {
      "text/plain": [
       "True"
      ]
     },
     "execution_count": 143,
     "metadata": {},
     "output_type": "execute_result"
    }
   ],
   "source": [
    "sym.ask(sym.Q.prime(7))"
   ]
  },
  {
   "cell_type": "code",
   "execution_count": 144,
   "metadata": {
    "collapsed": false,
    "jupyter": {
     "outputs_hidden": false
    }
   },
   "outputs": [
    {
     "data": {
      "text/plain": [
       "True"
      ]
     },
     "execution_count": 144,
     "metadata": {},
     "output_type": "execute_result"
    }
   ],
   "source": [
    "sym.ask(sym.Q.irrational(sym.pi))"
   ]
  },
  {
   "cell_type": "markdown",
   "metadata": {},
   "source": [
    "If we have the assumptions that $ x $ is even and $ y $ is an integer and the proposition is that $ x \\times y $ is even, we can check if the proposition can be *true* given the assumptions."
   ]
  },
  {
   "cell_type": "code",
   "execution_count": 145,
   "metadata": {},
   "outputs": [],
   "source": [
    "x, y = sym.symbols(\"x y\")"
   ]
  },
  {
   "cell_type": "code",
   "execution_count": 146,
   "metadata": {
    "collapsed": false,
    "jupyter": {
     "outputs_hidden": false
    }
   },
   "outputs": [
    {
     "data": {
      "text/plain": [
       "True"
      ]
     },
     "execution_count": 146,
     "metadata": {},
     "output_type": "execute_result"
    }
   ],
   "source": [
    "sym.ask(sym.Q.even(x * y), sym.Q.even(x) & sym.Q.integer(y))"
   ]
  },
  {
   "cell_type": "markdown",
   "metadata": {},
   "source": [
    "Under the assumptions that both $ x $ and $ y $ are odd can we get an even value from $ x \\times y $."
   ]
  },
  {
   "cell_type": "code",
   "execution_count": 147,
   "metadata": {
    "collapsed": false,
    "jupyter": {
     "outputs_hidden": false
    }
   },
   "outputs": [
    {
     "data": {
      "text/plain": [
       "False"
      ]
     },
     "execution_count": 147,
     "metadata": {},
     "output_type": "execute_result"
    }
   ],
   "source": [
    "sym.ask(sym.Q.even(x * y), sym.Q.odd(x) & sym.Q.odd(y))"
   ]
  },
  {
   "cell_type": "markdown",
   "metadata": {},
   "source": [
    "Under the assumptions of $ x $ being a real number and $ y $ is a real number, can $ x + iy $ be a complex number?"
   ]
  },
  {
   "cell_type": "code",
   "execution_count": 148,
   "metadata": {
    "collapsed": false,
    "jupyter": {
     "outputs_hidden": false
    }
   },
   "outputs": [
    {
     "data": {
      "text/plain": [
       "True"
      ]
     },
     "execution_count": 148,
     "metadata": {},
     "output_type": "execute_result"
    }
   ],
   "source": [
    "sym.ask(sym.Q.complex(x + sym.I * y), sym.Q.real(x) & sym.Q.real(y))"
   ]
  },
  {
   "cell_type": "markdown",
   "metadata": {},
   "source": [
    "## Propositional functions and quantifiers"
   ]
  },
  {
   "cell_type": "markdown",
   "metadata": {},
   "source": [
    "Now, we will introduce sets into the discussion on propositions.  Consider a propositional function $ {f} {\\left( x \\right)} $ with a truth value.  We can consider this function a **propositional function** when we substitute $ x $ for any element $ {a}_{i} \\in A $, with $ A = \\left\\{ {a}_{i} \\right\\} $."
   ]
  },
  {
   "cell_type": "markdown",
   "metadata": {},
   "source": [
    "This allows us to define two new concepts.  First there is the **domain** of $ f $, which is just the set $ A $ and then there is the more exciting **truth set** of $ f $, which contains all the elements of $ A $ for which $ f \\left( {a}_{i} \\right) $ is *true*.  It is written as $ {T}_{f} $ and we have $$ {T}_{f} = \\left\\{ x \\quad | \\quad x \\in A, \\quad f \\left( x \\right) = \\mathrm{true} \\right\\} $$"
   ]
  },
  {
   "cell_type": "markdown",
   "metadata": {},
   "source": [
    "Simple algebraic inequalities can now be viewed as propositional functions.  We can ask what the truth set is for $ x + 7 \\le 10 $, which would be $ T = \\left\\{ \\dots , -2, -1, 0, 1, 2, 3 \\right\\} $.  We also note that $ A $ could have been $ \\mathbb{Z} $."
   ]
  },
  {
   "cell_type": "markdown",
   "metadata": {},
   "source": [
    "The function $ f $ is a condition and has no truth value.  It is only when we define it on a set that we get truth values for each of the elements in the set.  If all the elements of the set return a *true* value we have a **universal quantifier** in that $ {T}_{f} = A $ and we use the symbol $ \\forall $.<p/>\n",
    "Now if we write $ {\\forall A} {f} {\\left( x \\right)} $ we can have a truth value\n",
    "- If $ \\left\\{ x \\quad | \\quad x \\in A, \\quad f \\left( x \\right) \\right\\} = A $ then $ {\\forall x} {f}{\\left( x \\right)} = \\mathrm{true} $\n",
    "- If $ \\left\\{ x \\quad | \\quad x \\in A, \\quad f \\left( x \\right) \\right\\} \\ne A $ then $ {\\forall x} {f} {\\left( x \\right)} = \\mathrm{false} $"
   ]
  },
  {
   "cell_type": "markdown",
   "metadata": {},
   "source": [
    "For a simple algebraic statement we now have for example the proposition $ \\left( \\forall n \\in \\mathbb{N} \\right) \\left( n + 10 > 9 \\right) = \\mathrm{true} $."
   ]
  },
  {
   "cell_type": "markdown",
   "metadata": {},
   "source": [
    "There is also the **existential quantifier**.  In words we would say: \"There exissts a value $ x $ in a set $ A $, such that the propositionl function $ {f} {\\left(x \\right)} $ is a *true* statement.\".  We write $$ {\\left( \\exists x \\in A \\right)} {f}{\\left( x \\right)} $$\n",
    "or $$ {T}_{f} = \\left\\{ x \\quad | \\quad x \\in A, \\quad {f}{\\left( x \\right)} \\right\\} \\ne \\emptyset $$"
   ]
  },
  {
   "cell_type": "markdown",
   "metadata": {},
   "source": [
    "Again we turn this into a truth statement by stating that\n",
    "- If $ \\left\\{ x|x\\in A,f\\left( x \\right)  \\right\\} \\neq \\emptyset  $ then $ {\\exists x} {f}{\\left( x \\right)} = \\mathrm{true} $\n",
    "- If $ \\left\\{ x|x\\in A,f\\left( x \\right)  \\right\\} =\\emptyset $ then $ {\\exists x} {f} {\\left( x \\right)} = \\mathrm{false} $"
   ]
  },
  {
   "cell_type": "markdown",
   "metadata": {},
   "source": [
    "## The negation of a quantified statement"
   ]
  },
  {
   "cell_type": "markdown",
   "metadata": {},
   "source": [
    "We can state a negation of what we had in the previous section.  DeMorgan's law gives us the following  **Theorem** $$ \\neg \\left( \\forall x \\in A \\right) {f}{\\left( x \\right)} \\equiv \\left( \\exists x \\in A \\right) \\neg {f}{\\left( x \\right)} $$\n",
    "We can read this in two ways\n",
    "- \"It is not *true* that for all $ a \\in A $, $ {f}{\\left( a \\right)} $ is *true*.\"\n",
    "- \"There exists an $ a \\in A $ such that $ {f}{\\left( a \\right)} $ is *false*.\""
   ]
  },
  {
   "cell_type": "markdown",
   "metadata": {},
   "source": [
    "Then there is also this **Theorem** based on DeMorgan's law\n",
    "$$ \\neg \\left( \\exists x \\in A \\right) {f}{\\left( x \\right)} \\equiv \\left( \\forall x \\in A \\right) \\neg {f}{\\left( x \\right)} $$\n",
    "It can also be read in two ways\n",
    "- \"It is not *true* that for some $ a \\in A $, $ {f}{\\left( a \\right)} $ is *true*.\"\n",
    "- \"For all $ a \\in A $, $ {f}{\\left( a \\right)} $ is *false*.\""
   ]
  },
  {
   "cell_type": "markdown",
   "metadata": {},
   "source": [
    "These concepts can be difficult at first.  Remember that if $ \\neg {f}{\\left( a \\right)} = \\mathrm{true} $ then $ {f}{\\left( a \\right)} = \\mathrm{false} $ and the other way around."
   ]
  },
  {
   "cell_type": "markdown",
   "metadata": {},
   "source": [
    "We can also incoporate the logic operators into these statements so $ {f}{\\left( a \\right)} \\land {g}{\\left( a \\right)} = \\mathrm{true} $ when $ {f}{\\left( a \\right)} = \\mathrm{true} $ and $ {g}{\\left( a \\right)} = \\mathrm{true} $.  Also, $ {f}{\\left( a \\right)} \\lor {g}{\\left( a \\right)} = \\mathrm{true} $ when $ {f}{\\left( a \\right)} = \\mathrm{true} $ or $ {g}{\\left( a \\right)} = \\mathrm{true} $."
   ]
  },
  {
   "cell_type": "markdown",
   "metadata": {},
   "source": [
    "In terms of what we have learned about sets we could the say that\n",
    "- $ \\neg {f}{\\left( x \\right)} $ is the complement of $ {f}{\\left( x \\right)} $\n",
    "- $ {f}{\\left( x \\right)} \\land {g}{\\left( x \\right)} $ is the intersection of $ {f}{\\left( x \\right)} $ and $ {g}{\\left( x \\right)} $\n",
    "- $ {f}{\\left( x \\right)} \\lor {g}{\\left( x \\right)} $ is the union of $ {f}{\\left( x \\right)} $ and $ {g}{\\left( x \\right)} $"
   ]
  },
  {
   "cell_type": "markdown",
   "metadata": {},
   "source": [
    "## The counterexample"
   ]
  },
  {
   "cell_type": "markdown",
   "metadata": {},
   "source": [
    "The **counterexample** is the element in $ A $ that makes a statement *false*.  So if we have the statement $ \\forall x \\in \\mathbb{Z}, x \\ne 0 $ is false and we have the counterexample $ 0 \\ne 0 $ is *false*. "
   ]
  },
  {
   "cell_type": "markdown",
   "metadata": {},
   "source": [
    "## Propositional statements of more than one variable"
   ]
  },
  {
   "cell_type": "markdown",
   "metadata": {},
   "source": [
    "Instead of the propositional statement being defined on a set $ A = \\left\\{ {a}_{i} \\right\\} $ we define it on a product set $ A = {A}_{1} \\times {A}_{2} \\times \\dots \\times {A}_{n} $.  This gives us the expression $ {f}{\\left( {x}_{i}, i = 1, 2, 3, \\dots, n \\right)} $ which has the property that $ {f}{\\left( {a}_{i}, i = 1, 2, 3, \\dots, n \\right)} $ is either *true* or *false* for any $ n $-tuple $ \\left( {a}_{i}, i = 1, 2, 3, \\dots , n \\right) $."
   ]
  },
  {
   "cell_type": "markdown",
   "metadata": {},
   "source": [
    "This can rapidly get out of hand and become very difficult to determine truth for all $ n $-tuples.  We do, though, have the fact that we can write $ \\forall x \\exists y, {f}{\\left( x,y \\right)} $ and so on."
   ]
  },
  {
   "cell_type": "markdown",
   "metadata": {},
   "source": [
    "The *sympy* Q class can come in handy here."
   ]
  },
  {
   "cell_type": "markdown",
   "metadata": {},
   "source": [
    "## Negating propositional statements of more than one variable"
   ]
  },
  {
   "cell_type": "markdown",
   "metadata": {},
   "source": [
    "Negation simply propagates through a statement and changes $ \\forall $ to $ \\exists $ and teh other way around $$ \\neg \\left[ \\forall x \\exists y \\right],{f}{\\left( x,y \\right)} \\equiv \\exists x \\neg \\left[ \\exists y \\right], {f}{\\left( x,y \\right)} \\equiv \\neg \\forall x \\left[ \\forall y \\right],{f}{\\left( x,y \\right)} $$"
   ]
  },
  {
   "cell_type": "markdown",
   "metadata": {},
   "source": [
    "## Redefining the limit of a sequence"
   ]
  },
  {
   "cell_type": "markdown",
   "metadata": {},
   "source": [
    "Now for something very beautiful.  We can redefine a limit of a sequence and give $ L $ as the limit of the sequence $ \\left\\{ {a}_{i}, i = 1, 2, 3, \\dots \\right\\} $ as $ {\\forall} {\\in} > {0}, \\quad \\exists {n}_{0} \\in \\mathbb{N}, \\quad \\forall n > {n}_{0} $ we have $ \\left| {a}_{n} - L \\right| < \\varepsilon $.<p/>\n",
    "$ L $ is not a limits if we have $ \\ge \\varepsilon $."
   ]
  },
  {
   "cell_type": "markdown",
   "metadata": {},
   "source": [
    "[Back to the top](#In-this-lesson)"
   ]
  },
  {
   "cell_type": "code",
   "execution_count": null,
   "metadata": {},
   "outputs": [],
   "source": []
  }
 ],
 "metadata": {
  "kernelspec": {
   "display_name": "Python 3",
   "language": "python",
   "name": "python3"
  },
  "language_info": {
   "codemirror_mode": {
    "name": "ipython",
    "version": 3
   },
   "file_extension": ".py",
   "mimetype": "text/x-python",
   "name": "python",
   "nbconvert_exporter": "python",
   "pygments_lexer": "ipython3",
   "version": "3.7.4"
  }
 },
 "nbformat": 4,
 "nbformat_minor": 4
}
