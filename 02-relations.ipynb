{
 "cells": [
  {
   "cell_type": "markdown",
   "metadata": {
    "slideshow": {
     "slide_type": "skip"
    }
   },
   "source": [
    "# Letures on Discrete Matheamtics and covers *the concept of a set*\n",
    "\n",
    "## Relations"
   ]
  },
  {
   "cell_type": "markdown",
   "metadata": {
    "slideshow": {
     "slide_type": "slide"
    }
   },
   "source": [
    "<h2>\n",
    "Pictorial representation of relations\n",
    "</h2>\n",
    "+ There are various ways to represent relations graphically\n",
    "\n",
    "![01](img/Fig2_1.png)\n",
    "\n",
    "![02](img/Fig2_2.png)\n",
    "\n",
    "![03](img/Fig2_3.png)"
   ]
  },
  {
   "cell_type": "markdown",
   "metadata": {
    "slideshow": {
     "slide_type": "slide"
    }
   },
   "source": [
    "## Composition of relations"
   ]
  },
  {
   "cell_type": "markdown",
   "metadata": {
    "slideshow": {
     "slide_type": "subslide"
    }
   },
   "source": [
    "### Introduction\n",
    "\n",
    "+ Consider the following\n",
    "    + Arbitrary, finite sets $ A, B, C $\n",
    "    + A relation from $A$ to $B$, being $P$\n",
    "    + A relation from $B$ to $C$, being $Q$\n",
    "+ This means that $P$ is a subset of $ A \\times B $ and $Q$ is a subset of $ B \\times C $\n",
    "+ Now there is a relation for $A$ to $C$, namely $ P\\circ Q $\n",
    "    + $ a \\left( P\\circ Q \\right) c  $ if for some $ b \\in B $ we have $ aPb $ and $ bQc $\n",
    "+ This relation is called the **composition** of relations $P$ and $Q$\n",
    "\n",
    "Beware that some texts use $ Q \\circ P $"
   ]
  },
  {
   "cell_type": "markdown",
   "metadata": {
    "slideshow": {
     "slide_type": "subslide"
    }
   },
   "source": [
    "<h3>\n",
    "Example\n",
    "</h3>\n",
    "+ Consider the sets and relations and calculate the composite relation $ P \\circ Q $\n",
    "\n",
    "![04](img/Fig2_4.png)"
   ]
  },
  {
   "cell_type": "markdown",
   "metadata": {
    "slideshow": {
     "slide_type": "subslide"
    }
   },
   "source": [
    "$ P\\circ Q=\\left\\{ \\left( 1,a \\right) ,\\left( 1,b \\right), \\left( 1,c \\right) ,\\left( 3,a \\right) ,(3,c) \\right\\}  $"
   ]
  },
  {
   "cell_type": "markdown",
   "metadata": {
    "slideshow": {
     "slide_type": "subslide"
    }
   },
   "source": [
    "The problem can also be solved by multiplying the matrices of the relations"
   ]
  },
  {
   "cell_type": "code",
   "execution_count": 7,
   "metadata": {
    "collapsed": false,
    "jupyter": {
     "outputs_hidden": false
    },
    "slideshow": {
     "slide_type": "subslide"
    }
   },
   "outputs": [
    {
     "data": {
      "text/plain": [
       "(Matrix([\n",
       " [0, 1, 1],\n",
       " [0, 0, 0],\n",
       " [0, 1, 0]]), Matrix([\n",
       " [1, 1, 1],\n",
       " [1, 0, 1],\n",
       " [0, 1, 0]]))"
      ]
     },
     "execution_count": 7,
     "metadata": {},
     "output_type": "execute_result"
    }
   ],
   "source": [
    "from sympy import init_printing, Matrix\n",
    "\n",
    "P = Matrix([[0, 1, 1], [0, 0, 0], [0, 1, 0]])\n",
    "Q = Matrix([[1, 1, 1], [1, 0, 1], [0, 1, 0]])\n",
    "P, Q"
   ]
  },
  {
   "cell_type": "code",
   "execution_count": 9,
   "metadata": {
    "collapsed": false,
    "jupyter": {
     "outputs_hidden": false
    },
    "slideshow": {
     "slide_type": "subslide"
    }
   },
   "outputs": [
    {
     "data": {
      "text/latex": [
       "$\\displaystyle \\left[\\begin{matrix}1 & 1 & 1\\\\0 & 0 & 0\\\\1 & 0 & 1\\end{matrix}\\right]$"
      ],
      "text/plain": [
       "Matrix([\n",
       "[1, 1, 1],\n",
       "[0, 0, 0],\n",
       "[1, 0, 1]])"
      ]
     },
     "execution_count": 9,
     "metadata": {},
     "output_type": "execute_result"
    }
   ],
   "source": [
    "P * Q"
   ]
  },
  {
   "cell_type": "markdown",
   "metadata": {
    "slideshow": {
     "slide_type": "subslide"
    }
   },
   "source": [
    "### Theorem: Association of compositions\n",
    "\n",
    "* Given four sets ($ A,B,C,D $) with three relations $ aPb,\\quad bQc, \\quad cRd $\n",
    "\n",
    "    * $ \\left( P \\circ Q \\right) \\circ R = P \\circ \\left( Q \\circ R \\right) $"
   ]
  },
  {
   "cell_type": "markdown",
   "metadata": {
    "slideshow": {
     "slide_type": "slide"
    }
   },
   "source": [
    "## Reflexive relations\n",
    "### Introduction\n",
    "\n",
    "+ A relation is reflexive if all of the identity tuples occur in the relation\n",
    "+ Consider $ A = \\left\\{ 1, 2, 3, 4 \\right\\} $\n",
    "+ For a relation on $A$ to be reflexive it must contain the ordered pairs $ \\left( 1,1 \\right), \\left( 2, 2 \\right), \\left( 3, 3 \\right), \\left( 4,4 \\right) $\n",
    "+ The universal relation $A \\times A$ is always reflexive\n",
    "+ Some examples of non-reflexive relations include:\n",
    "    + The perpendicular and parallel relations on set the of lines in a plane, since no line can be either perpendicular or parallel to itself\n",
    "\n",
    "### Example of some reflexive relations inlcude\n",
    "\n",
    "+ The less-than or equal-to relation on the set of integers, since for all $n, n \\le n$\n",
    "+ The relation of set inclusion on a collection of sets, since for all $A, A \\subseteq A$\n",
    "+ The relation of divisibility on the set of positive integers"
   ]
  },
  {
   "cell_type": "markdown",
   "metadata": {},
   "source": [
    "## Symmteric relations\n",
    "### Introduction\n",
    "\n",
    "+ A symmetric relation occurs if whenever $\\left(a,b\\right) \\in R$ then $\\left(b,a\\right) \\in R$, so whenever $aRb$ then $bRa$.\n",
    "+ This must hold for all of the ordered pairs in the relation.\n",
    "<h3>Examples</h3>\n",
    "+ ${ R }_{ 1 }=\\left[ \\left( 1,1 \\right) ,\\left( 1,2 \\right) ,\\left( 2,3 \\right) ,\\left( 1,3 \\right) ,\\left( 4,4 \\right)  \\right]  $ is not symmetric.  For instance $\\left(1,3\\right) \\in {R}_{1}$, but $\\left(3,1\\right)$ is not not."
   ]
  },
  {
   "cell_type": "markdown",
   "metadata": {},
   "source": [
    "## Antisymmteric relations\n",
    "### Introduction\n",
    "\n",
    "+ If $R$ is a relation in $A$ and if $\\left(a,b\\right)\\in{R}$ and $\\left(b,a\\right)\\in{R}$ implies that $a=b$, then $R$ is an antisymmetric relation.\n",
    "+ In very non-mathematical terms, if a *mirror image* tuple appears in a relation, it is not antisymmetric and there must be some $\\left(a,a\\right)$ element for it to be antisymmetric.\n",
    "+ For a relation to be antisymmetric, it must first be symmetric.\n",
    "<h3>Example</h3>\n",
    "+ ${ R }_{ 1 }=\\left[ \\left( 1,1 \\right) ,\\left( 2,2 \\right) ,\\left( 2,3 \\right) ,\\left( 1,3 \\right)  \\right] \\\\ \\left( a,b \\right) ,\\left( b,a \\right) \\in R\\\\ \\left( 1,1 \\right) \\in R$\n",
    "+ The identity relation is antisymmetric."
   ]
  },
  {
   "cell_type": "markdown",
   "metadata": {},
   "source": [
    "## Transitive relations\n",
    "### Introduction\n",
    "\n",
    "+ A relation $R$ is transitive if whenever $aRb$ and $bRc$ then $aRc$.  So, whenever $\\left( a,b \\right) ,\\left( b,c \\right) \\in R$, then $\\left( a,c \\right) \\in R$.  If $\\left( a,b \\right) ,\\left( b,c \\right) \\in R$, but $\\left( a,c \\right) \\notin R$ then the relation is not transitive.\n",
    "<h3>Examples</h3>\n",
    "+ The identity relation and the universal relation (on non-empty sets) are transitive."
   ]
  },
  {
   "cell_type": "code",
   "execution_count": null,
   "metadata": {},
   "outputs": [],
   "source": []
  }
 ],
 "metadata": {
  "celltoolbar": "Edit Metadata",
  "kernelspec": {
   "display_name": "Python 3",
   "language": "python",
   "name": "python3"
  },
  "language_info": {
   "codemirror_mode": {
    "name": "ipython",
    "version": 3
   },
   "file_extension": ".py",
   "mimetype": "text/x-python",
   "name": "python",
   "nbconvert_exporter": "python",
   "pygments_lexer": "ipython3",
   "version": "3.7.4"
  }
 },
 "nbformat": 4,
 "nbformat_minor": 4
}
