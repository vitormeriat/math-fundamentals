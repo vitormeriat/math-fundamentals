{
 "cells": [
  {
   "cell_type": "markdown",
   "metadata": {},
   "source": [
    "# Set algebra with Python scripts\n",
    "\n",
    "Based on the work of Dr. Tirthajyoti Sarkar\n",
    "\n",
    "---"
   ]
  },
  {
   "cell_type": "markdown",
   "metadata": {},
   "source": [
    "Set theory is a branch of mathematical logic that studies sets, which informally are collections of objects. Although any type of object can be collected into a set, set theory is applied most often to objects that are relevant to mathematics. The language of set theory can be used in the definitions of nearly all mathematical objects.\n",
    "\n",
    "**Set theory is commonly employed as a foundational system for modern mathematics**, particularly in the form of [**Zermelo–Fraenkel set theory**](https://en.wikipedia.org/wiki/Zermelo-Fraenkel_set_theory) with the [axiom of choice](https://en.wikipedia.org/wiki/Axiom_of_choice).\n",
    "\n",
    "Python offers a native data structure called set, which can be used as a proxy for a mathematical set for almost all purposes."
   ]
  },
  {
   "cell_type": "code",
   "execution_count": 1,
   "metadata": {},
   "outputs": [],
   "source": [
    "import IPython.display as disp"
   ]
  },
  {
   "cell_type": "markdown",
   "metadata": {},
   "source": [
    "## Various ways to create a 'set' object in Python"
   ]
  },
  {
   "cell_type": "code",
   "execution_count": 4,
   "metadata": {},
   "outputs": [
    {
     "name": "stdout",
     "output_type": "stream",
     "text": [
      "{1, 2}\n"
     ]
    }
   ],
   "source": [
    "# Directly with curly braces\n",
    "Set1 = {1,2}\n",
    "print (Set1)"
   ]
  },
  {
   "cell_type": "code",
   "execution_count": 5,
   "metadata": {},
   "outputs": [
    {
     "data": {
      "text/plain": [
       "set"
      ]
     },
     "execution_count": 5,
     "metadata": {},
     "output_type": "execute_result"
    }
   ],
   "source": [
    "type(Set1)"
   ]
  },
  {
   "cell_type": "code",
   "execution_count": 6,
   "metadata": {},
   "outputs": [
    {
     "name": "stdout",
     "output_type": "stream",
     "text": [
      "{2, 3}\n"
     ]
    }
   ],
   "source": [
    "# By calling the 'set' function i.e. typecasting\n",
    "Set2 = set({2,3})\n",
    "print(Set2)"
   ]
  },
  {
   "cell_type": "code",
   "execution_count": 7,
   "metadata": {},
   "outputs": [
    {
     "name": "stdout",
     "output_type": "stream",
     "text": [
      "{1, 2, 3, 4}\n"
     ]
    }
   ],
   "source": [
    "my_list=[1,2,3,4]\n",
    "my_set_from_list = set(my_list)\n",
    "print(my_set_from_list)"
   ]
  },
  {
   "cell_type": "markdown",
   "metadata": {},
   "source": [
    "** Empty (Null) set is a special set **\n",
    "$$ \\forall x, x \\notin \\varnothing $$ \n",
    "#### Do not try to create the empty set by declaring an empty {}. That denotes an empty dictionary object "
   ]
  },
  {
   "cell_type": "code",
   "execution_count": 8,
   "metadata": {},
   "outputs": [
    {
     "name": "stdout",
     "output_type": "stream",
     "text": [
      "<class 'dict'>\n"
     ]
    }
   ],
   "source": [
    "my_set = {}\n",
    "print(type(my_set))"
   ]
  },
  {
   "cell_type": "markdown",
   "metadata": {},
   "source": [
    "#### Instead, use the set() function to create the empty (null) set from any empty data type e.g. dictionary or list"
   ]
  },
  {
   "cell_type": "code",
   "execution_count": 9,
   "metadata": {},
   "outputs": [
    {
     "name": "stdout",
     "output_type": "stream",
     "text": [
      "<class 'set'>\n",
      "<class 'set'>\n"
     ]
    }
   ],
   "source": [
    "my_set = set({})\n",
    "print(type(my_set))\n",
    "my_set_2 = set([])\n",
    "print(type(my_set_2))"
   ]
  },
  {
   "cell_type": "markdown",
   "metadata": {},
   "source": [
    "## Membership and size testing"
   ]
  },
  {
   "cell_type": "markdown",
   "metadata": {},
   "source": [
    "### Membership testing by '*in*' and '*not in*' keywords"
   ]
  },
  {
   "cell_type": "code",
   "execution_count": 10,
   "metadata": {},
   "outputs": [
    {
     "name": "stdout",
     "output_type": "stream",
     "text": [
      "Here is my set: {1, 3, 5}\n",
      "1 is in the set: True\n",
      "2 is in the set: False\n",
      "4 is NOT in the set: True\n"
     ]
    }
   ],
   "source": [
    "my_set = set([1,3,5])\n",
    "print(\"Here is my set:\",my_set)\n",
    "print(\"1 is in the set:\",1 in my_set)\n",
    "print(\"2 is in the set:\",2 in my_set)\n",
    "print(\"4 is NOT in the set:\",4 not in my_set)"
   ]
  },
  {
   "cell_type": "markdown",
   "metadata": {},
   "source": [
    "### Size checking by '*len*' or '*not*'"
   ]
  },
  {
   "cell_type": "code",
   "execution_count": 11,
   "metadata": {},
   "outputs": [
    {
     "data": {
      "text/plain": [
       "False"
      ]
     },
     "execution_count": 11,
     "metadata": {},
     "output_type": "execute_result"
    }
   ],
   "source": [
    "S = {1,2}\n",
    "not S"
   ]
  },
  {
   "cell_type": "code",
   "execution_count": 12,
   "metadata": {},
   "outputs": [
    {
     "data": {
      "text/plain": [
       "True"
      ]
     },
     "execution_count": 12,
     "metadata": {},
     "output_type": "execute_result"
    }
   ],
   "source": [
    "T = set()\n",
    "not T"
   ]
  },
  {
   "cell_type": "code",
   "execution_count": 13,
   "metadata": {},
   "outputs": [
    {
     "name": "stdout",
     "output_type": "stream",
     "text": [
      "Size of S: 2\n",
      "Size of T: 0\n"
     ]
    }
   ],
   "source": [
    "print(\"Size of S:\", len(S))\n",
    "print(\"Size of T:\", len(T))"
   ]
  },
  {
   "cell_type": "markdown",
   "metadata": {},
   "source": [
    "## Venn diagrams"
   ]
  },
  {
   "cell_type": "code",
   "execution_count": 17,
   "metadata": {},
   "outputs": [
    {
     "data": {
      "image/png": "[encoded data removed]",
      "text/plain": [
       "<Figure size 1152x576 with 1 Axes>"
      ]
     },
     "metadata": {},
     "output_type": "display_data"
    }
   ],
   "source": [
    "import matplotlib.pyplot as plt\n",
    "import matplotlib_venn as venn\n",
    "\n",
    "S = {1, 2, 3}\n",
    "T = {0, 2, -1, 5}\n",
    "\n",
    "plt.figure(figsize=(16,8))\n",
    "venn.venn2([S, T], set_labels=('S','T'))\n",
    "plt.show()"
   ]
  },
  {
   "cell_type": "code",
   "execution_count": 19,
   "metadata": {},
   "outputs": [
    {
     "data": {
      "image/png": "[encoded data removed]",
      "text/plain": [
       "<Figure size 1152x576 with 1 Axes>"
      ]
     },
     "metadata": {},
     "output_type": "display_data"
    }
   ],
   "source": [
    "plt.figure(figsize=(16,8))\n",
    "venn.venn3(subsets = (1, 1, 1, 2, 1, 2, 2), set_labels = ('Set1', 'Set2', 'Set3'))\n",
    "plt.show()"
   ]
  },
  {
   "cell_type": "markdown",
   "metadata": {},
   "source": [
    "## Set relations\n",
    "* **Subset**\n",
    "* **Superset**\n",
    "* **Disjoint**\n",
    "* **Universal set**\n",
    "* **Null set**"
   ]
  },
  {
   "cell_type": "code",
   "execution_count": 20,
   "metadata": {},
   "outputs": [],
   "source": [
    "Univ = set([x for x in range(11)])\n",
    "Super = set([x for x in range(11) if x%2==0])\n",
    "disj = set([x for x in range(11) if x%2==1])\n",
    "Sub = set([4,6])\n",
    "Null = set([x for x in range(11) if x>10])"
   ]
  },
  {
   "cell_type": "code",
   "execution_count": 21,
   "metadata": {},
   "outputs": [
    {
     "name": "stdout",
     "output_type": "stream",
     "text": [
      "Universal set (all the positive integers up to 10): {0, 1, 2, 3, 4, 5, 6, 7, 8, 9, 10}\n",
      "All the even positive integers up to 10: {0, 2, 4, 6, 8, 10}\n",
      "All the odd positive integers up to 10: {1, 3, 5, 7, 9}\n",
      "Set of 2 elements, 4 and 6: {4, 6}\n",
      "A null set: set()\n"
     ]
    }
   ],
   "source": [
    "print(\"Universal set (all the positive integers up to 10):\",Univ)\n",
    "print(\"All the even positive integers up to 10:\",Super)\n",
    "print(\"All the odd positive integers up to 10:\",disj)\n",
    "print(\"Set of 2 elements, 4 and 6:\",Sub)\n",
    "print(\"A null set:\", Null)"
   ]
  },
  {
   "cell_type": "code",
   "execution_count": 22,
   "metadata": {},
   "outputs": [
    {
     "data": {
      "text/plain": [
       "True"
      ]
     },
     "execution_count": 22,
     "metadata": {},
     "output_type": "execute_result"
    }
   ],
   "source": [
    "Super.issuperset(Sub)"
   ]
  },
  {
   "cell_type": "code",
   "execution_count": 23,
   "metadata": {},
   "outputs": [
    {
     "data": {
      "text/plain": [
       "True"
      ]
     },
     "execution_count": 23,
     "metadata": {},
     "output_type": "execute_result"
    }
   ],
   "source": [
    "Super.issubset(Univ)"
   ]
  },
  {
   "cell_type": "code",
   "execution_count": 24,
   "metadata": {},
   "outputs": [
    {
     "data": {
      "text/plain": [
       "True"
      ]
     },
     "execution_count": 24,
     "metadata": {},
     "output_type": "execute_result"
    }
   ],
   "source": [
    "Sub.issubset(Super)"
   ]
  },
  {
   "cell_type": "code",
   "execution_count": 25,
   "metadata": {},
   "outputs": [
    {
     "data": {
      "text/plain": [
       "False"
      ]
     },
     "execution_count": 25,
     "metadata": {},
     "output_type": "execute_result"
    }
   ],
   "source": [
    "Sub.issuperset(Super)"
   ]
  },
  {
   "cell_type": "code",
   "execution_count": 26,
   "metadata": {},
   "outputs": [
    {
     "data": {
      "text/plain": [
       "True"
      ]
     },
     "execution_count": 26,
     "metadata": {},
     "output_type": "execute_result"
    }
   ],
   "source": [
    "Super.isdisjoint(disj)"
   ]
  },
  {
   "cell_type": "markdown",
   "metadata": {},
   "source": [
    "**Alternatively, operators like '<=' or '>' can be used to check relations**"
   ]
  },
  {
   "cell_type": "code",
   "execution_count": 27,
   "metadata": {},
   "outputs": [
    {
     "data": {
      "text/plain": [
       "True"
      ]
     },
     "execution_count": 27,
     "metadata": {},
     "output_type": "execute_result"
    }
   ],
   "source": [
    "Super > Sub"
   ]
  },
  {
   "cell_type": "code",
   "execution_count": 28,
   "metadata": {},
   "outputs": [
    {
     "data": {
      "text/plain": [
       "True"
      ]
     },
     "execution_count": 28,
     "metadata": {},
     "output_type": "execute_result"
    }
   ],
   "source": [
    "Sub <= Super"
   ]
  },
  {
   "cell_type": "markdown",
   "metadata": {},
   "source": [
    "### Algebra of inclusion"
   ]
  },
  {
   "cell_type": "markdown",
   "metadata": {},
   "source": [
    "If A, B and C are sets then the following hold:\n",
    "\n",
    "**Reflexivity:**\n",
    "\n",
    "$$ {\\displaystyle A\\subseteq A} $$\n",
    "\n",
    "**Antisymmetry:**\n",
    "\n",
    "$$ A\\subseteq B\\ \\ and\\ B\\subseteq A\\ \\text if\\ and\\ only\\ if\\ A=B $$\n",
    "\n",
    "**Transitivity:**\n",
    "\n",
    "$$If\\ {\\displaystyle A\\subseteq B}\\ and \\ {\\displaystyle B\\subseteq C}, then\\ A ⊆ C $$"
   ]
  },
  {
   "cell_type": "markdown",
   "metadata": {},
   "source": [
    "## Set algebra/Operations\n",
    "* **Equality**\n",
    "* **Intersection**\n",
    "* **Union**\n",
    "* **Complement**\n",
    "* **Difference**\n",
    "* **Cartesian product**"
   ]
  },
  {
   "cell_type": "markdown",
   "metadata": {},
   "source": [
    "### Equality/Non-equality of sets"
   ]
  },
  {
   "cell_type": "code",
   "execution_count": 30,
   "metadata": {},
   "outputs": [
    {
     "name": "stdout",
     "output_type": "stream",
     "text": [
      "S1 and S2 are equal because order or repetition of elements do not matter for sets\n",
      "S1==S2: True\n"
     ]
    }
   ],
   "source": [
    "S1 = {1,2}\n",
    "S2 = {2,2,1,1,2}\n",
    "\n",
    "print (\"S1 and S2 are equal because order or repetition of elements do not matter for sets\\nS1==S2:\", S1==S2)"
   ]
  },
  {
   "cell_type": "code",
   "execution_count": 31,
   "metadata": {},
   "outputs": [
    {
     "name": "stdout",
     "output_type": "stream",
     "text": [
      "S1 and S2 are NOT equal because at least one element is different\n",
      "S1==S2: False\n"
     ]
    }
   ],
   "source": [
    "S1 = {1,2,3,4,5,6}\n",
    "S2 = {1,2,3,4,0,6}\n",
    "\n",
    "print (\"S1 and S2 are NOT equal because at least one element is different\\nS1==S2:\", S1==S2)"
   ]
  },
  {
   "cell_type": "markdown",
   "metadata": {},
   "source": [
    "### Intersection between sets"
   ]
  },
  {
   "cell_type": "markdown",
   "metadata": {},
   "source": [
    "In mathematics, the intersection A ∩ B of two sets A and B is the set that contains all elements of A that also belong to B (or equivalently, all elements of B that also belong to A), but no other elements. Formally,\n",
    "\n",
    "$$  {\\displaystyle A\\cap B=\\{x:x\\in A{\\text{ and }}x\\in B\\}.} $$\n",
    "\n",
    "![Set intersection](https://upload.wikimedia.org/wikipedia/commons/5/5a/PolygonsSetIntersection.svg)"
   ]
  },
  {
   "cell_type": "code",
   "execution_count": 32,
   "metadata": {},
   "outputs": [
    {
     "name": "stdout",
     "output_type": "stream",
     "text": [
      "S1: {9, 3, 6}\n"
     ]
    }
   ],
   "source": [
    "# Define a set using list comprehension\n",
    "S1 = set([x for x in range(1,11) if x%3==0])\n",
    "print(\"S1:\", S1)"
   ]
  },
  {
   "cell_type": "code",
   "execution_count": 33,
   "metadata": {},
   "outputs": [
    {
     "name": "stdout",
     "output_type": "stream",
     "text": [
      "S2: {1, 2, 3, 4}\n"
     ]
    }
   ],
   "source": [
    "S2 = set([x for x in range(1,5)])\n",
    "print(\"S2:\", S2)"
   ]
  },
  {
   "cell_type": "code",
   "execution_count": 34,
   "metadata": {},
   "outputs": [
    {
     "name": "stdout",
     "output_type": "stream",
     "text": [
      "Intersection of S1 and S2: {3}\n",
      "Intersection of S1 and S2: {3}\n"
     ]
    }
   ],
   "source": [
    "# Both intersection method or & can be used\n",
    "S_intersection = S1.intersection(S2)\n",
    "print(\"Intersection of S1 and S2:\", S_intersection)\n",
    "\n",
    "S_intersection = S1 & S2\n",
    "print(\"Intersection of S1 and S2:\", S_intersection)"
   ]
  },
  {
   "cell_type": "markdown",
   "metadata": {},
   "source": [
    "** One can chain the methods to get intersection with more than 2 sets **"
   ]
  },
  {
   "cell_type": "code",
   "execution_count": 35,
   "metadata": {},
   "outputs": [
    {
     "name": "stdout",
     "output_type": "stream",
     "text": [
      "S3: {4, 5, 6, 7, 8, 9}\n"
     ]
    }
   ],
   "source": [
    "S3 = set([x for x in range(4,10)])\n",
    "print(\"S3:\", S3)"
   ]
  },
  {
   "cell_type": "code",
   "execution_count": 36,
   "metadata": {},
   "outputs": [
    {
     "name": "stdout",
     "output_type": "stream",
     "text": [
      "Intersection of S1, S2, and S3: set()\n"
     ]
    }
   ],
   "source": [
    "S1_S2_S3 = S1.intersection(S2).intersection(S3)\n",
    "print(\"Intersection of S1, S2, and S3:\", S1_S2_S3)"
   ]
  },
  {
   "cell_type": "markdown",
   "metadata": {},
   "source": [
    "** Now change the S3 to contain 3**"
   ]
  },
  {
   "cell_type": "code",
   "execution_count": 37,
   "metadata": {},
   "outputs": [
    {
     "name": "stdout",
     "output_type": "stream",
     "text": [
      "S3: {3, 4, 5, 6, 7, 8, 9}\n",
      "Intersection of S1, S2, and S3: {3}\n"
     ]
    }
   ],
   "source": [
    "S3 = set([x for x in range(3,10)])\n",
    "print(\"S3:\", S3)\n",
    "S1_S2_S3 = S1.intersection(S2).intersection(S3)\n",
    "print(\"Intersection of S1, S2, and S3:\", S1_S2_S3)"
   ]
  },
  {
   "cell_type": "markdown",
   "metadata": {},
   "source": [
    "#### The symbol '&' can be used for intersection"
   ]
  },
  {
   "cell_type": "code",
   "execution_count": 38,
   "metadata": {},
   "outputs": [
    {
     "name": "stdout",
     "output_type": "stream",
     "text": [
      "Intersection of {1, 2, 3} and {1, 3, 5} is: {1, 3} with size 2\n"
     ]
    }
   ],
   "source": [
    "A = {1, 2, 3}\n",
    "B = {5,3,1}\n",
    "print(\"Intersection of {} and {} is: {} with size {}\".format(A,B,A&B,len(A&B)))"
   ]
  },
  {
   "cell_type": "markdown",
   "metadata": {},
   "source": [
    "![3 sets intersection](https://upload.wikimedia.org/wikipedia/commons/3/3e/Venn_0000_0001.svg)"
   ]
  },
  {
   "cell_type": "markdown",
   "metadata": {},
   "source": [
    "**Commutative law:** \n",
    "$$ {\\displaystyle A\\cap B=B\\cap A} $$\n",
    "\n",
    "**Associative law:**\n",
    "$$ {\\displaystyle (A\\cap B)\\cap C=A\\cap (B\\cap C)} $$\n",
    "\n",
    "** Distributive law:**\n",
    "$$ {\\displaystyle A\\cap (B\\cup C)=(A\\cap B)\\cup (A\\cap C)} $$\n",
    "\n",
    "\n",
    "\n"
   ]
  },
  {
   "cell_type": "markdown",
   "metadata": {},
   "source": [
    "### Union of sets"
   ]
  },
  {
   "cell_type": "markdown",
   "metadata": {},
   "source": [
    "In set theory, the union (denoted by ∪) of a collection of sets is the set of all elements in the collection. It is one of the fundamental operations through which sets can be combined and related to each other. Formally,\n",
    "\n",
    "$$ {\\displaystyle A\\cup B=\\{x:x\\in A{\\text{ or }}x\\in B\\}}$$"
   ]
  },
  {
   "cell_type": "code",
   "execution_count": 39,
   "metadata": {},
   "outputs": [
    {
     "name": "stdout",
     "output_type": "stream",
     "text": [
      "S1: {9, 3, 6}\n",
      "S2: {1, 2, 3, 4}\n",
      "Union of S1 and S2: {1, 2, 3, 4, 6, 9}\n",
      "Union of S1 and S2: {1, 2, 3, 4, 6, 9}\n"
     ]
    }
   ],
   "source": [
    "# Both union method or | can be used\n",
    "S1 = set([x for x in range(1,11) if x%3==0])\n",
    "print(\"S1:\", S1)\n",
    "S2 = set([x for x in range(1,5)])\n",
    "print(\"S2:\", S2)\n",
    "\n",
    "S_union = S1.union(S2)\n",
    "print(\"Union of S1 and S2:\", S_union)\n",
    "S_union = S1 | S2\n",
    "print(\"Union of S1 and S2:\", S_union)"
   ]
  },
  {
   "cell_type": "code",
   "execution_count": 40,
   "metadata": {},
   "outputs": [
    {
     "name": "stdout",
     "output_type": "stream",
     "text": [
      "S3: {10, 5}\n",
      "S4: {8, 7}\n",
      "Union of S1, S2, S3, and S4: {1, 2, 3, 4, 5, 6, 7, 8, 9, 10}\n"
     ]
    }
   ],
   "source": [
    "S3 = set([5*x for x in range(1,3)])\n",
    "print(\"S3:\", S3)\n",
    "S4 = set ([7,8])\n",
    "print(\"S4:\", S4)\n",
    "S1_S2_S3_S4 = S1.union(S2).union(S3).union(S4)\n",
    "print(\"Union of S1, S2, S3, and S4:\", S1_S2_S3_S4)"
   ]
  },
  {
   "cell_type": "markdown",
   "metadata": {},
   "source": [
    "#### The symbol '|' can be used for union"
   ]
  },
  {
   "cell_type": "code",
   "execution_count": 41,
   "metadata": {},
   "outputs": [
    {
     "name": "stdout",
     "output_type": "stream",
     "text": [
      "Union of {1, 2, 3} and {3, 4, 5} is: {1, 2, 3, 4, 5} with size 5\n"
     ]
    }
   ],
   "source": [
    "A = {1, 2, 3}\n",
    "B = {5,3,4}\n",
    "print(\"Union of {} and {} is: {} with size {}\".format(A,B,A|B,len(A|B)))"
   ]
  },
  {
   "cell_type": "markdown",
   "metadata": {},
   "source": [
    "![Union of sets](https://upload.wikimedia.org/wikipedia/commons/e/ee/Venn_0111_1111.svg)"
   ]
  },
  {
   "cell_type": "markdown",
   "metadata": {},
   "source": [
    "** We can prove the following identities (associative and distributive properties) **\n",
    "\n",
    "$$ {\\displaystyle A\\cup (B\\cup C)=(A\\cup B)\\cup C} $$\n",
    "$$ {\\displaystyle A\\cap (B\\cup C)=(A\\cap B)\\cup (A\\cap C)} $$\n",
    "$$ {\\displaystyle A\\cup (B\\cap C)=(A\\cup B)\\cap (A\\cup C)} $$ "
   ]
  },
  {
   "cell_type": "markdown",
   "metadata": {},
   "source": [
    "### More algebra of inclusion involving union and intersection"
   ]
  },
  {
   "cell_type": "markdown",
   "metadata": {},
   "source": [
    "If A, B and C are subsets of a set S then the following hold:\n",
    "\n",
    "**Existence of a least element and a greatest element:**\n",
    "\n",
    "$$ {\\displaystyle \\varnothing \\subseteq A\\subseteq S} $$\n",
    "\n",
    "**Existence of joins:**\n",
    "\n",
    "$$ {\\displaystyle A\\subseteq A\\cup B} $$\n",
    "            \n",
    "$$ If\\ {\\displaystyle A\\subseteq C}\\ and\\ {\\displaystyle B\\subseteq C,}\\ then\\ {\\displaystyle A\\cup B\\subseteq C} $$\n",
    "\n",
    "**Existence of meets:**\n",
    "$$ {\\displaystyle A\\cap B\\subseteq A} $$\n",
    "\n",
    "$$ If\\ {\\displaystyle C\\subseteq A}\\ and\\ {\\displaystyle C\\subseteq B,}\\ then\\ {\\displaystyle C\\subseteq A\\cap B} $$\n"
   ]
  },
  {
   "cell_type": "markdown",
   "metadata": {},
   "source": [
    "### Complement of set\n",
    "\n",
    "![complement](img/a-complement.png)"
   ]
  },
  {
   "cell_type": "markdown",
   "metadata": {},
   "source": [
    "If A is a set, then the absolute complement of A (or simply the complement of A) is the set of elements not in A. In other words, if U is the universe that contains all the elements under study, and there is no need to mention it because it is obvious and unique, then the absolute complement of A is the relative complement of A in U. Formally,\n",
    "\n",
    "$$ {\\displaystyle A^{\\complement }=\\{x\\in U\\mid x\\notin A\\}.} $$"
   ]
  },
  {
   "cell_type": "code",
   "execution_count": 43,
   "metadata": {},
   "outputs": [
    {
     "name": "stdout",
     "output_type": "stream",
     "text": [
      "S is the set of even numbers between 0 and 100: {0, 2, 4, 6, 8, 10, 12, 14, 16, 18, 20, 22, 24, 26, 28, 30, 32, 34, 36, 38, 40, 42, 44, 46, 48, 50, 52, 54, 56, 58, 60, 62, 64, 66, 68, 70, 72, 74, 76, 78, 80, 82, 84, 86, 88, 90, 92, 94, 96, 98, 100}\n"
     ]
    }
   ],
   "source": [
    "S=set([x for x in range (101) if x%2==0])\n",
    "print (\"S is the set of even numbers between 0 and 100:\", S)"
   ]
  },
  {
   "cell_type": "code",
   "execution_count": 44,
   "metadata": {},
   "outputs": [
    {
     "name": "stdout",
     "output_type": "stream",
     "text": [
      "S_complement is the set of odd numbers between 0 and 100: {1, 3, 5, 7, 9, 11, 13, 15, 17, 19, 21, 23, 25, 27, 29, 31, 33, 35, 37, 39, 41, 43, 45, 47, 49, 51, 53, 55, 57, 59, 61, 63, 65, 67, 69, 71, 73, 75, 77, 79, 81, 83, 85, 87, 89, 91, 93, 95, 97, 99}\n"
     ]
    }
   ],
   "source": [
    "S_complement = set([x for x in range (101) if x%2!=0])\n",
    "print (\"S_complement is the set of odd numbers between 0 and 100:\", S_complement)"
   ]
  },
  {
   "cell_type": "markdown",
   "metadata": {},
   "source": [
    "** You can take the union of two sets and if that is equal to the universal set (in the context of your problem), then you have found the right complement **"
   ]
  },
  {
   "cell_type": "code",
   "execution_count": 45,
   "metadata": {},
   "outputs": [
    {
     "name": "stdout",
     "output_type": "stream",
     "text": [
      "Is the union of S and S_complement equal to all numbers between 0 and 100? True\n"
     ]
    }
   ],
   "source": [
    "print (\"Is the union of S and S_complement equal to all numbers between 0 and 100?\", \n",
    "       S.union(S_complement)==set([x for x in range (101)]))"
   ]
  },
  {
   "cell_type": "markdown",
   "metadata": {},
   "source": [
    "** De Morgan's laws:**\n",
    "\n",
    "$$ {\\displaystyle \\left(A\\cup B\\right)^{\\complement }=A^{\\complement }\\cap B^{\\complement }.} $$\n",
    "$$ {\\displaystyle \\left(A\\cap B\\right)^{\\complement }=A^{\\complement }\\cup B^{\\complement }.} $$\n",
    "\n",
    "** Complement laws **\n",
    "\n",
    "$$ {\\displaystyle A\\cup A^{\\complement }=U.} $$\n",
    "$$ {\\displaystyle A\\cap A^{\\complement }=\\varnothing .} $$\n",
    "$$ {\\displaystyle \\varnothing ^{\\complement }=U.} $$\n",
    "$$ {\\displaystyle U^{\\complement }=\\varnothing .} $$\n",
    "$$ {\\displaystyle {\\text{If }}A\\subset B{\\text{, then }}B^{\\complement }\\subset A^{\\complement }.} $$"
   ]
  },
  {
   "cell_type": "markdown",
   "metadata": {},
   "source": [
    "### Just an example of De Morgan's laws"
   ]
  },
  {
   "cell_type": "code",
   "execution_count": 46,
   "metadata": {},
   "outputs": [
    {
     "name": "stdout",
     "output_type": "stream",
     "text": [
      "U: {-4, 3, 4, 5, -6, 12, 13, -2}\n"
     ]
    }
   ],
   "source": [
    "A={-6,3,4,5}\n",
    "B={-6,5,13}\n",
    "U=A|B|{12,-2,-4}\n",
    "print(\"U:\",U)"
   ]
  },
  {
   "cell_type": "code",
   "execution_count": 47,
   "metadata": {},
   "outputs": [],
   "source": [
    "def complement_of_union(S1,S2,S3):\n",
    "    Su = S1|S2\n",
    "    S4 = set()\n",
    "    for item in S3:\n",
    "        if item not in Su:\n",
    "            S4.add(item)\n",
    "    return S4\n",
    "\n",
    "def intersection_of_complement(S1,S2,S3):\n",
    "    S1C = set()\n",
    "    S2C = set()\n",
    "    for item in S3:\n",
    "        if item not in S1:\n",
    "            S1C.add(item)\n",
    "    for item in S3:\n",
    "        if item not in S2:\n",
    "            S2C.add(item)\n",
    "    return (S1C & S2C)"
   ]
  },
  {
   "cell_type": "code",
   "execution_count": 48,
   "metadata": {},
   "outputs": [
    {
     "data": {
      "text/plain": [
       "True"
      ]
     },
     "execution_count": 48,
     "metadata": {},
     "output_type": "execute_result"
    }
   ],
   "source": [
    "complement_of_union(A,B,U) == intersection_of_complement(A,B,U)"
   ]
  },
  {
   "cell_type": "code",
   "execution_count": 49,
   "metadata": {},
   "outputs": [
    {
     "data": {
      "text/plain": [
       "{-4, -2, 12}"
      ]
     },
     "execution_count": 49,
     "metadata": {},
     "output_type": "execute_result"
    }
   ],
   "source": [
    "complement_of_union(A,B,U)"
   ]
  },
  {
   "cell_type": "code",
   "execution_count": 50,
   "metadata": {},
   "outputs": [
    {
     "data": {
      "text/plain": [
       "{-4, -2, 12}"
      ]
     },
     "execution_count": 50,
     "metadata": {},
     "output_type": "execute_result"
    }
   ],
   "source": [
    "intersection_of_complement(A,B,U)"
   ]
  },
  {
   "cell_type": "markdown",
   "metadata": {},
   "source": [
    "### Difference between sets"
   ]
  },
  {
   "cell_type": "markdown",
   "metadata": {},
   "source": [
    "If A and B are sets, then the relative complement of A in B, also termed the set-theoretic difference of B and A, is the **set of elements in B but not in A**.\n",
    "\n",
    "$$ {\\displaystyle B\\setminus A=\\{x\\in B\\mid x\\notin A\\}.} $$\n",
    "\n",
    "![Set difference](https://upload.wikimedia.org/wikipedia/commons/5/5a/Venn0010.svg)"
   ]
  },
  {
   "cell_type": "code",
   "execution_count": 51,
   "metadata": {},
   "outputs": [
    {
     "name": "stdout",
     "output_type": "stream",
     "text": [
      "Set S1: {0, 3, 6, 9, 12, 15, 18, 21, 24, 27, 30}\n"
     ]
    }
   ],
   "source": [
    "S1 = set([x for x in range(31) if x%3==0])\n",
    "print (\"Set S1:\", S1)"
   ]
  },
  {
   "cell_type": "code",
   "execution_count": 52,
   "metadata": {},
   "outputs": [
    {
     "name": "stdout",
     "output_type": "stream",
     "text": [
      "Set S2: {0, 5, 10, 15, 20, 25, 30}\n"
     ]
    }
   ],
   "source": [
    "S2 = set([x for x in range(31) if x%5==0])\n",
    "print (\"Set S2:\", S2)"
   ]
  },
  {
   "cell_type": "code",
   "execution_count": 53,
   "metadata": {},
   "outputs": [
    {
     "name": "stdout",
     "output_type": "stream",
     "text": [
      "Difference of S1 and S2 i.e. S2\\S1: {25, 10, 20, 5}\n",
      "Difference of S2 and S1 i.e. S1\\S2: {3, 6, 9, 12, 18, 21, 24, 27}\n"
     ]
    }
   ],
   "source": [
    "S_difference = S2-S1\n",
    "print(\"Difference of S1 and S2 i.e. S2\\S1:\", S_difference)\n",
    "\n",
    "S_difference = S1.difference(S2)\n",
    "print(\"Difference of S2 and S1 i.e. S1\\S2:\", S_difference)"
   ]
  },
  {
   "cell_type": "markdown",
   "metadata": {},
   "source": [
    "** Following identities can be obtained with algebraic manipulation: **\n",
    "\n",
    "$$ {\\displaystyle C\\setminus (A\\cap B)=(C\\setminus A)\\cup (C\\setminus B)} $$\n",
    "$$ {\\displaystyle C\\setminus (A\\cup B)=(C\\setminus A)\\cap (C\\setminus B)} $$\n",
    "$$ {\\displaystyle C\\setminus (B\\setminus A)=(C\\cap A)\\cup (C\\setminus B)} $$\n",
    "$$ {\\displaystyle C\\setminus (C\\setminus A)=(C\\cap A)} $$\n",
    "$$ {\\displaystyle (B\\setminus A)\\cap C=(B\\cap C)\\setminus A=B\\cap (C\\setminus A)} $$\n",
    "$$ {\\displaystyle (B\\setminus A)\\cup C=(B\\cup C)\\setminus (A\\setminus C)} $$      \n",
    "$$ {\\displaystyle A\\setminus A=\\emptyset} $$\n",
    "$$ {\\displaystyle \\emptyset \\setminus A=\\emptyset } $$\n",
    "$$ {\\displaystyle A\\setminus \\emptyset =A} $$\n",
    "$$ {\\displaystyle A\\setminus U=\\emptyset } $$"
   ]
  },
  {
   "cell_type": "markdown",
   "metadata": {},
   "source": [
    "### Symmetric difference"
   ]
  },
  {
   "cell_type": "markdown",
   "metadata": {},
   "source": [
    "In set theory, the ***symmetric difference***, also known as the ***disjunctive union***, of two sets is the set of elements which are in either of the sets and not in their intersection.\n",
    "$$ {\\displaystyle A\\,\\triangle \\,B=\\{x:(x\\in A)\\oplus (x\\in B)\\}}$$ \n",
    "\n",
    "$$ {\\displaystyle A\\,\\triangle \\,B=(A\\smallsetminus B)\\cup (B\\smallsetminus A)} $$\n",
    "\n",
    "$${\\displaystyle A\\,\\triangle \\,B=(A\\cup B)\\smallsetminus (A\\cap B)} $$"
   ]
  },
  {
   "cell_type": "markdown",
   "metadata": {},
   "source": [
    "![Symmetric difference](https://upload.wikimedia.org/wikipedia/commons/4/46/Venn0110.svg)"
   ]
  },
  {
   "cell_type": "markdown",
   "metadata": {},
   "source": [
    "**Some properties,**\n",
    "\n",
    "$$ {\\displaystyle A\\,\\triangle \\,B=B\\,\\triangle \\,A,} $$\n",
    "$$ {\\displaystyle (A\\,\\triangle \\,B)\\,\\triangle \\,C=A\\,\\triangle \\,(B\\,\\triangle \\,C).} $$\n",
    "\n",
    "**The empty set is neutral, and every set is its own inverse:**\n",
    "\n",
    "$$ {\\displaystyle A\\,\\triangle \\,\\varnothing =A,} $$\n",
    "$$ {\\displaystyle A\\,\\triangle \\,A=\\varnothing .} $$"
   ]
  },
  {
   "cell_type": "code",
   "execution_count": 54,
   "metadata": {},
   "outputs": [
    {
     "name": "stdout",
     "output_type": "stream",
     "text": [
      "S1 {0, 3, 6, 9, 12, 15, 18, 21, 24, 27, 30}\n",
      "S2 {0, 5, 10, 15, 20, 25, 30}\n",
      "Symmetric difference {3, 5, 6, 9, 10, 12, 18, 20, 21, 24, 25, 27}\n",
      "Symmetric difference {3, 5, 6, 9, 10, 12, 18, 20, 21, 24, 25, 27}\n"
     ]
    }
   ],
   "source": [
    "print(\"S1\",S1)\n",
    "print(\"S2\",S2)\n",
    "print(\"Symmetric difference\", S1^S2)\n",
    "print(\"Symmetric difference\", S2.symmetric_difference(S1))"
   ]
  },
  {
   "cell_type": "markdown",
   "metadata": {},
   "source": [
    "### Cartesian Product"
   ]
  },
  {
   "cell_type": "markdown",
   "metadata": {},
   "source": [
    "In set theory (and, usually, in other parts of mathematics), a Cartesian product is a mathematical operation that returns a set (or product set or simply product) from multiple sets. That is, for sets A and B, the Cartesian product A × B is the set of all ordered pairs (a, b) where a ∈ A and b ∈ B.\n",
    "\n",
    "$$ {\\displaystyle A\\times B=\\{\\,(a,b)\\mid a\\in A\\ {\\mbox{ and }}\\ b\\in B\\,\\}.} $$\n",
    "\n",
    "More generally, a Cartesian product of n sets, also known as an n-fold Cartesian product, can be represented by an array of n dimensions, where each element is an *n-tuple*. An ordered pair is a *2-tuple* or couple. The Cartesian product is named after [René Descartes](https://en.wikipedia.org/wiki/Ren%C3%A9_Descartes) whose formulation of analytic geometry gave rise to the concept"
   ]
  },
  {
   "cell_type": "code",
   "execution_count": 55,
   "metadata": {},
   "outputs": [],
   "source": [
    "A = set(['a','b','c'])\n",
    "S = {1,2,3}"
   ]
  },
  {
   "cell_type": "code",
   "execution_count": 56,
   "metadata": {},
   "outputs": [
    {
     "name": "stdout",
     "output_type": "stream",
     "text": [
      "Cartesian product of A and S\n",
      "{'b', 'a', 'c'} X {1, 2, 3}:{('c', 1), ('c', 3), ('c', 2), ('b', 1), ('a', 2), ('b', 3), ('a', 3), ('b', 2), ('a', 1)}\n"
     ]
    }
   ],
   "source": [
    "def cartesian_product(S1,S2):\n",
    "    result = set()\n",
    "    for i in S1:\n",
    "        for j in S2:\n",
    "            result.add(tuple([i,j]))\n",
    "    return (result)\n",
    "\n",
    "C = cartesian_product(A,S)\n",
    "print(\"Cartesian product of A and S\\n{} X {}:{}\".format(A,S,C))"
   ]
  },
  {
   "cell_type": "code",
   "execution_count": 57,
   "metadata": {},
   "outputs": [
    {
     "name": "stdout",
     "output_type": "stream",
     "text": [
      "Length of the Cartesian product set: 9\n"
     ]
    }
   ],
   "source": [
    "print(\"Length of the Cartesian product set:\",len(C))"
   ]
  },
  {
   "cell_type": "markdown",
   "metadata": {},
   "source": [
    "** Note that because these are ordered pairs, same element can be repeated inside the pair i.e. even if two sets contain some identical elements, they can be paired up in the Cartesian product **"
   ]
  },
  {
   "cell_type": "code",
   "execution_count": 58,
   "metadata": {},
   "outputs": [
    {
     "name": "stdout",
     "output_type": "stream",
     "text": [
      "Cartesian product of {1, 2, 3, 4} and {2, 3, 4} is:\n",
      "{(1, 2), (3, 2), (1, 3), (3, 3), (4, 4), (1, 4), (2, 3), (4, 3), (2, 2), (4, 2), (3, 4), (2, 4)}\n"
     ]
    }
   ],
   "source": [
    "A = {1,2,3,4}\n",
    "B = {2,3,4}\n",
    "\n",
    "print (\"Cartesian product of {} and {} is:\\n{}\".format(A,B,cartesian_product(A,B)))"
   ]
  },
  {
   "cell_type": "markdown",
   "metadata": {},
   "source": [
    "** Instead of writing functions ourselves, we could use the *itertools* library of Python. Remember to turn the resulting product object into a list for viewing and subsequent processing **"
   ]
  },
  {
   "cell_type": "code",
   "execution_count": 59,
   "metadata": {},
   "outputs": [],
   "source": [
    "from itertools import product as prod"
   ]
  },
  {
   "cell_type": "code",
   "execution_count": 60,
   "metadata": {},
   "outputs": [
    {
     "name": "stdout",
     "output_type": "stream",
     "text": [
      "[(1, 2), (1, 3), (1, 4), (2, 2), (2, 3), (2, 4), (3, 2), (3, 3), (3, 4), (4, 2), (4, 3), (4, 4)]\n"
     ]
    }
   ],
   "source": [
    "A = {1,2,3,4}\n",
    "B = {2,3,4}\n",
    "p=list(prod(A,B))\n",
    "print (p)"
   ]
  },
  {
   "cell_type": "markdown",
   "metadata": {},
   "source": [
    "### Cartesian Power\n",
    "\n",
    "The Cartesian square (or binary Cartesian product) of a set X is the Cartesian product $X^2 = X × X$. An example is the 2-dimensional plane $R^2 = R × R$ where _R_ is the set of real numbers: $R^2$ is the set of all points (_x_,_y_) where _x_ and _y_ are real numbers (see the [Cartesian coordinate system](https://en.wikipedia.org/wiki/Cartesian_coordinate_system)).\n",
    "\n",
    "The cartesian power of a set X can be defined as:\n",
    "\n",
    "${\\displaystyle X^{n}=\\underbrace {X\\times X\\times \\cdots \\times X} _{n}=\\{(x_{1},\\ldots ,x_{n})\\ |\\ x_{i}\\in X{\\text{ for all }}i=1,\\ldots ,n\\}.} $\n",
    "\n",
    "The [cardinality of a set](https://en.wikipedia.org/wiki/Cardinality) is the number of elements of the set. Cardinality of a Cartesian power set is $|S|^{n}$ where |S| is the cardinality of the set _S_ and _n_ is the power.\n",
    "\n",
    "__We can easily use itertools again for calculating Cartesian power__. The _repeat_ parameter is used as power."
   ]
  },
  {
   "cell_type": "code",
   "execution_count": 61,
   "metadata": {},
   "outputs": [
    {
     "name": "stdout",
     "output_type": "stream",
     "text": [
      "Cartesian power 2 with length 9: [(1, 1), (1, 2), (1, 3), (2, 1), (2, 2), (2, 3), (3, 1), (3, 2), (3, 3)]\n",
      "\n",
      "\n",
      "Cartesian power 3 with length 27: [(1, 1, 1), (1, 1, 2), (1, 1, 3), (1, 2, 1), (1, 2, 2), (1, 2, 3), (1, 3, 1), (1, 3, 2), (1, 3, 3), (2, 1, 1), (2, 1, 2), (2, 1, 3), (2, 2, 1), (2, 2, 2), (2, 2, 3), (2, 3, 1), (2, 3, 2), (2, 3, 3), (3, 1, 1), (3, 1, 2), (3, 1, 3), (3, 2, 1), (3, 2, 2), (3, 2, 3), (3, 3, 1), (3, 3, 2), (3, 3, 3)]\n"
     ]
    }
   ],
   "source": [
    "A = {1,2,3} # 3 element set\n",
    "p2=list(prod(A,repeat=2)) # Power set of power 2\n",
    "print(\"Cartesian power 2 with length {}: {}\".format(len(p2),p2))\n",
    "print(\"\\n\")\n",
    "p3=list(prod(A,repeat=3)) # Power set of power 3\n",
    "print(\"Cartesian power 3 with length {}: {}\".format(len(p3),p3))"
   ]
  },
  {
   "cell_type": "code",
   "execution_count": 62,
   "metadata": {},
   "outputs": [
    {
     "name": "stdout",
     "output_type": "stream",
     "text": [
      "Tuples in {1, 2, 3}^2: \n",
      "(1, 2)\n",
      "(3, 2)\n",
      "(1, 3)\n",
      "(3, 3)\n",
      "(3, 1)\n",
      "(2, 1)\n",
      "(2, 3)\n",
      "(2, 2)\n",
      "(1, 1)\n",
      "Size =  9\n"
     ]
    }
   ],
   "source": [
    "A = {1, 2, 3}\n",
    "k = 2\n",
    "cartesian_power = set([i for i in prod(A, repeat = k)])\n",
    "print(\"Tuples in %s^%i: \" %(A,k))\n",
    "for i in cartesian_power:\n",
    "    print(i)\n",
    "print;\n",
    "print(\"Size = \", len(cartesian_power))"
   ]
  },
  {
   "cell_type": "code",
   "execution_count": null,
   "metadata": {},
   "outputs": [],
   "source": []
  },
  {
   "cell_type": "code",
   "execution_count": null,
   "metadata": {},
   "outputs": [],
   "source": []
  }
 ],
 "metadata": {
  "kernelspec": {
   "display_name": "Python 3",
   "language": "python",
   "name": "python3"
  },
  "language_info": {
   "codemirror_mode": {
    "name": "ipython",
    "version": 3
   },
   "file_extension": ".py",
   "mimetype": "text/x-python",
   "name": "python",
   "nbconvert_exporter": "python",
   "pygments_lexer": "ipython3",
   "version": "3.7.4"
  }
 },
 "nbformat": 4,
 "nbformat_minor": 4
}
