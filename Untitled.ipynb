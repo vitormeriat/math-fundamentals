{
 "cells": [
  {
   "cell_type": "markdown",
   "metadata": {},
   "source": [
    "# Probability concepts using Python\n",
    "### IME USP\n",
    "\n",
    "---\n",
    "\n",
    "This notebook illustrates the concept of probability (frequntist definition) using simple scripts and functions.\n",
    "\n",
    "## Set theory basics\n",
    "\n",
    "Set theory is a branch of mathematical logic that studies sets, which informally are collections of objects. Although any type of object can be collected into a set, set theory is applied most often to objects that are relevant to mathematics. The language of set theory can be used in the definitions of nearly all mathematical objects.\n",
    "\n",
    "**Set theory is commonly employed as a foundational system for modern mathematics**.\n",
    "\n",
    "Python offers a **native data structure called set**, which can be used as a proxy for a mathematical set for almost all purposes."
   ]
  },
  {
   "cell_type": "code",
   "execution_count": 1,
   "metadata": {},
   "outputs": [
    {
     "name": "stdout",
     "output_type": "stream",
     "text": [
      "{1, 2}\n",
      "<class 'set'>\n"
     ]
    }
   ],
   "source": [
    "# Directly with curly braces\n",
    "Set1 = {1,2}\n",
    "print (Set1)\n",
    "print(type(Set1))"
   ]
  },
  {
   "cell_type": "code",
   "execution_count": 2,
   "metadata": {},
   "outputs": [
    {
     "name": "stdout",
     "output_type": "stream",
     "text": [
      "{1, 2, 3, 4}\n"
     ]
    }
   ],
   "source": [
    "my_list=[1,2,3,4]\n",
    "my_set_from_list = set(my_list)\n",
    "print(my_set_from_list)"
   ]
  },
  {
   "cell_type": "markdown",
   "metadata": {},
   "source": [
    "### Membership testing with `in` and `not in`"
   ]
  },
  {
   "cell_type": "code",
   "execution_count": 3,
   "metadata": {},
   "outputs": [
    {
     "name": "stdout",
     "output_type": "stream",
     "text": [
      "Here is my set: {1, 3, 5}\n",
      "1 is in the set: True\n",
      "2 is in the set: False\n",
      "4 is NOT in the set: True\n"
     ]
    }
   ],
   "source": [
    "my_set = set([1,3,5])\n",
    "print(\"Here is my set:\",my_set)\n",
    "print(\"1 is in the set:\",1 in my_set)\n",
    "print(\"2 is in the set:\",2 in my_set)\n",
    "print(\"4 is NOT in the set:\",4 not in my_set)"
   ]
  },
  {
   "cell_type": "markdown",
   "metadata": {},
   "source": [
    "### Set relations\n",
    "\n",
    "* **Subset**\n",
    "* **Superset**\n",
    "* **Disjoint**\n",
    "* **Universal set**\n",
    "* **Null set**"
   ]
  },
  {
   "cell_type": "code",
   "execution_count": 4,
   "metadata": {},
   "outputs": [],
   "source": [
    "Univ = set([x for x in range(11)])\n",
    "Super = set([x for x in range(11) if x%2==0])\n",
    "disj = set([x for x in range(11) if x%2==1])\n",
    "Sub = set([4,6])\n",
    "Null = set([x for x in range(11) if x>10])"
   ]
  },
  {
   "cell_type": "code",
   "execution_count": 5,
   "metadata": {},
   "outputs": [
    {
     "name": "stdout",
     "output_type": "stream",
     "text": [
      "Universal set (all the positive integers up to 10): {0, 1, 2, 3, 4, 5, 6, 7, 8, 9, 10}\n",
      "All the even positive integers up to 10: {0, 2, 4, 6, 8, 10}\n",
      "All the odd positive integers up to 10: {1, 3, 5, 7, 9}\n",
      "Set of 2 elements, 4 and 6: {4, 6}\n",
      "A null set: set()\n"
     ]
    }
   ],
   "source": [
    "print(\"Universal set (all the positive integers up to 10):\",Univ)\n",
    "print(\"All the even positive integers up to 10:\",Super)\n",
    "print(\"All the odd positive integers up to 10:\",disj)\n",
    "print(\"Set of 2 elements, 4 and 6:\",Sub)\n",
    "print(\"A null set:\", Null)"
   ]
  },
  {
   "cell_type": "code",
   "execution_count": 6,
   "metadata": {},
   "outputs": [
    {
     "name": "stdout",
     "output_type": "stream",
     "text": [
      "Is \"Super\" a superset of \"Sub\"? True\n",
      "Is \"Super\" a subset of \"Univ\"? True\n",
      "Is \"Sub\" a superset of \"Super\"? False\n",
      "Is \"Super\" disjoint with \"disj\"? True\n"
     ]
    }
   ],
   "source": [
    "print('Is \"Super\" a superset of \"Sub\"?',Super.issuperset(Sub))\n",
    "print('Is \"Super\" a subset of \"Univ\"?',Super.issubset(Univ))\n",
    "print('Is \"Sub\" a superset of \"Super\"?',Sub.issuperset(Super))\n",
    "print('Is \"Super\" disjoint with \"disj\"?',Sub.isdisjoint(disj))"
   ]
  },
  {
   "cell_type": "markdown",
   "metadata": {},
   "source": [
    "### Set algebra/Operations\n",
    "\n",
    "* **Equality**\n",
    "* **Intersection**\n",
    "* **Union**\n",
    "* **Complement**\n",
    "* **Difference**\n",
    "* **Cartesian product**"
   ]
  },
  {
   "cell_type": "code",
   "execution_count": 7,
   "metadata": {},
   "outputs": [
    {
     "name": "stdout",
     "output_type": "stream",
     "text": [
      "S1 and S2 are equal because order or repetition of elements do not matter for sets\n",
      "S1==S2: True\n"
     ]
    }
   ],
   "source": [
    "S1 = {1,2}\n",
    "S2 = {2,2,1,1,2}\n",
    "print (\"S1 and S2 are equal because order or repetition of elements do not matter for sets\\nS1==S2:\", S1==S2)"
   ]
  },
  {
   "cell_type": "code",
   "execution_count": 8,
   "metadata": {},
   "outputs": [
    {
     "name": "stdout",
     "output_type": "stream",
     "text": [
      "S1 and S2 are NOT equal because at least one element is different\n",
      "S1==S2: False\n"
     ]
    }
   ],
   "source": [
    "S1 = {1,2,3,4,5,6}\n",
    "S2 = {1,2,3,4,0,6}\n",
    "print (\"S1 and S2 are NOT equal because at least one element is different\\nS1==S2:\", S1==S2)"
   ]
  },
  {
   "cell_type": "markdown",
   "metadata": {},
   "source": [
    "In mathematics, the intersection $A ∩ B$ of two sets A and B is the set that contains all elements of A that also belong to B (or equivalently, all elements of B that also belong to A), but no other elements. Formally:\n",
    "\n",
    "$$\\Huge  {\\displaystyle A\\cap B=\\{x:x\\in A{\\text{ and }}x\\in B\\}.} $$\n",
    "\n",
    "<div align=\"center\" style=\"width: 100%; margin-top:5em;\">\n",
    "    <h5 style=\"font-family: courier; color: #9B9B9B;\">3 sets intersection</h5>\n",
    "    <img src=\"https://upload.wikimedia.org/wikipedia/commons/3/3e/Venn_0000_0001.svg\">\n",
    "</div>"
   ]
  },
  {
   "cell_type": "code",
   "execution_count": 9,
   "metadata": {},
   "outputs": [
    {
     "name": "stdout",
     "output_type": "stream",
     "text": [
      "S1: {9, 3, 6}\n"
     ]
    }
   ],
   "source": [
    "# Define a set using list comprehension\n",
    "S1 = set([x for x in range(1,11) if x%3==0])\n",
    "print(\"S1:\", S1)"
   ]
  },
  {
   "cell_type": "code",
   "execution_count": 10,
   "metadata": {},
   "outputs": [
    {
     "name": "stdout",
     "output_type": "stream",
     "text": [
      "S2: {1, 2, 3, 4, 5, 6}\n"
     ]
    }
   ],
   "source": [
    "S2 = set([x for x in range(1,7)])\n",
    "print(\"S2:\", S2)"
   ]
  },
  {
   "cell_type": "code",
   "execution_count": 11,
   "metadata": {},
   "outputs": [
    {
     "name": "stdout",
     "output_type": "stream",
     "text": [
      "Intersection of S1 and S2: {3, 6}\n",
      "Intersection of S1 and S2: {3, 6}\n"
     ]
    }
   ],
   "source": [
    "# Both intersection method or & can be used\n",
    "S_intersection = S1.intersection(S2)\n",
    "print(\"Intersection of S1 and S2:\", S_intersection)\n",
    "\n",
    "S_intersection = S1 & S2\n",
    "print(\"Intersection of S1 and S2:\", S_intersection)"
   ]
  },
  {
   "cell_type": "code",
   "execution_count": 12,
   "metadata": {},
   "outputs": [
    {
     "name": "stdout",
     "output_type": "stream",
     "text": [
      "S3: {8, 9, 6, 7}\n",
      "Intersection of S1, S2, and S3: {6}\n"
     ]
    }
   ],
   "source": [
    "S3 = set([x for x in range(6,10)])\n",
    "print(\"S3:\", S3)\n",
    "S1_S2_S3 = S1.intersection(S2).intersection(S3)\n",
    "print(\"Intersection of S1, S2, and S3:\", S1_S2_S3)"
   ]
  },
  {
   "cell_type": "markdown",
   "metadata": {},
   "source": [
    "In set theory, the union (denoted by ∪) of a collection of sets is the set of all elements in the collection. It is one of the fundamental operations through which sets can be combined and related to each other. Formally:\n",
    "\n",
    "$$\\Huge {A\\cup B=\\{x:x\\in A{\\text{ or }}x\\in B\\}} $$\n",
    "\n",
    "<div align=\"center\" style=\"width: 100%; margin-top:5em;\">\n",
    "    <h5 style=\"font-family: courier; color: #9B9B9B;\">union of sets</h5>\n",
    "    <img src=\"https://upload.wikimedia.org/wikipedia/commons/e/ee/Venn_0111_1111.svg\">\n",
    "</div>"
   ]
  },
  {
   "cell_type": "code",
   "execution_count": 13,
   "metadata": {},
   "outputs": [
    {
     "name": "stdout",
     "output_type": "stream",
     "text": [
      "S1: {9, 3, 6}\n",
      "S2: {1, 2, 3, 4}\n",
      "Union of S1 and S2: {1, 2, 3, 4, 6, 9}\n",
      "Union of S1 and S2: {1, 2, 3, 4, 6, 9}\n"
     ]
    }
   ],
   "source": [
    "# Both union method or | can be used\n",
    "S1 = set([x for x in range(1,11) if x%3==0])\n",
    "print(\"S1:\", S1)\n",
    "S2 = set([x for x in range(1,5)])\n",
    "print(\"S2:\", S2)\n",
    "\n",
    "S_union = S1.union(S2)\n",
    "print(\"Union of S1 and S2:\", S_union)\n",
    "S_union = S1 | S2\n",
    "print(\"Union of S1 and S2:\", S_union)"
   ]
  },
  {
   "cell_type": "markdown",
   "metadata": {},
   "source": [
    "### Set algebra laws\n",
    "\n",
    "**Commutative law:** \n",
    "\n",
    "$$\\large {\\displaystyle A\\cap B=B\\cap A} $$\n",
    "$$\\large {\\displaystyle A\\cup (B\\cup C)=(A\\cup B)\\cup C} $$\n",
    "\n",
    "**Associative law:**\n",
    "\n",
    "$$\\large {\\displaystyle (A\\cap B)\\cap C=A\\cap (B\\cap C)} $$\n",
    "$$\\large {\\displaystyle A\\cap (B\\cup C)=(A\\cap B)\\cup (A\\cap C)} $$\n",
    "\n",
    "**Distributive law:**\n",
    "\n",
    "$$\\large {\\displaystyle A\\cap (B\\cup C)=(A\\cap B)\\cup (A\\cap C)} $$\n",
    "$$\\large {\\displaystyle A\\cup (B\\cap C)=(A\\cup B)\\cap (A\\cup C)} $$\n",
    "\n",
    "### Complement\n",
    "\n",
    "If A is a set, then the absolute complement of A (or simply the complement of A) is the set of elements not in A. In other words, if U is the universe that contains all the elements under study, and there is no need to mention it because it is obvious and unique, then the absolute complement of A is the relative complement of A in U. Formally,\n",
    "\n",
    "$$\\Large {\\displaystyle A^{\\complement }=\\{x\\in U\\mid x\\notin A\\}.} $$\n",
    "\n",
    "You can take the union of two sets and if that is equal to the universal set (in the context of your problem), then you have found the right complement"
   ]
  },
  {
   "cell_type": "code",
   "execution_count": 14,
   "metadata": {},
   "outputs": [
    {
     "name": "stdout",
     "output_type": "stream",
     "text": [
      "S is the set of even numbers between 0 and 20: {0, 2, 4, 6, 8, 10, 12, 14, 16, 18, 20}\n"
     ]
    }
   ],
   "source": [
    "S=set([x for x in range (21) if x%2==0])\n",
    "print (\"S is the set of even numbers between 0 and 20:\", S)"
   ]
  },
  {
   "cell_type": "code",
   "execution_count": 15,
   "metadata": {},
   "outputs": [
    {
     "name": "stdout",
     "output_type": "stream",
     "text": [
      "S_complement is the set of odd numbers between 0 and 20: {1, 3, 5, 7, 9, 11, 13, 15, 17, 19}\n"
     ]
    }
   ],
   "source": [
    "S_complement = set([x for x in range (21) if x%2!=0])\n",
    "print (\"S_complement is the set of odd numbers between 0 and 20:\", S_complement)"
   ]
  },
  {
   "cell_type": "code",
   "execution_count": 16,
   "metadata": {},
   "outputs": [
    {
     "name": "stdout",
     "output_type": "stream",
     "text": [
      "Is the union of S and S_complement equal to all numbers between 0 and 20? True\n"
     ]
    }
   ],
   "source": [
    "print (\"Is the union of S and S_complement equal to all numbers between 0 and 20?\", \n",
    "S.union(S_complement)==set([x for x in range (21)]))"
   ]
  },
  {
   "cell_type": "markdown",
   "metadata": {},
   "source": [
    "**De Morgan's laws**\n",
    "\n",
    "$$\\Large {\\displaystyle \\left(A\\cup B\\right)^{\\complement }=A^{\\complement }\\cap B^{\\complement }.} $$\n",
    "\n",
    "$$\\Large {\\displaystyle \\left(A\\cap B\\right)^{\\complement }=A^{\\complement }\\cup B^{\\complement }.} $$\n",
    "\n",
    "**Complement laws**\n",
    "\n",
    "$$\\Large {\\displaystyle A\\cup A^{\\complement }=U.} $$\n",
    "\n",
    "$$\\Large {\\displaystyle A\\cap A^{\\complement }=\\varnothing .} $$\n",
    "\n",
    "$$\\Large {\\displaystyle \\varnothing ^{\\complement }=U.} $$\n",
    "\n",
    "$$\\Large {\\displaystyle U^{\\complement }=\\varnothing .} $$\n",
    "\n",
    "$$\\Large {\\displaystyle {\\text{If }}A\\subset B{\\text{, then }}B^{\\complement }\\subset A^{\\complement }.} $$\n",
    "\n",
    "### Difference between sets\n",
    "\n",
    "If A and B are sets, then the relative complement of A in B, also termed the set-theoretic difference of B and A, is the **set of elements in B but not in A**.\n",
    "\n",
    "$$\\Large {\\displaystyle B\\setminus A=\\{x\\in B\\mid x\\notin A\\}.} $$\n",
    "\n",
    "<div align=\"center\" style=\"width: 100%; margin-top:5em;\">\n",
    "    <h5 style=\"font-family: courier; color: #9B9B9B;\">set difference</h5>\n",
    "    <img src=\"https://upload.wikimedia.org/wikipedia/commons/5/5a/Venn0010.svg\">\n",
    "</div>"
   ]
  },
  {
   "cell_type": "code",
   "execution_count": 17,
   "metadata": {},
   "outputs": [
    {
     "name": "stdout",
     "output_type": "stream",
     "text": [
      "Set S1: {0, 3, 6, 9, 12, 15, 18, 21, 24, 27, 30}\n"
     ]
    }
   ],
   "source": [
    "S1 = set([x for x in range(31) if x%3==0])\n",
    "print (\"Set S1:\", S1)"
   ]
  },
  {
   "cell_type": "code",
   "execution_count": 18,
   "metadata": {},
   "outputs": [
    {
     "name": "stdout",
     "output_type": "stream",
     "text": [
      "Set S2: {0, 5, 10, 15, 20, 25, 30}\n"
     ]
    }
   ],
   "source": [
    "S2 = set([x for x in range(31) if x%5==0])\n",
    "print (\"Set S2:\", S2)"
   ]
  },
  {
   "cell_type": "code",
   "execution_count": 19,
   "metadata": {},
   "outputs": [
    {
     "name": "stdout",
     "output_type": "stream",
     "text": [
      "Difference of S1 and S2 i.e. S2\\S1: {25, 10, 20, 5}\n",
      "Difference of S2 and S1 i.e. S1\\S2: {3, 6, 9, 12, 18, 21, 24, 27}\n"
     ]
    }
   ],
   "source": [
    "S_difference = S2-S1\n",
    "print(\"Difference of S1 and S2 i.e. S2\\S1:\", S_difference)\n",
    "\n",
    "S_difference = S1.difference(S2)\n",
    "print(\"Difference of S2 and S1 i.e. S1\\S2:\", S_difference)"
   ]
  },
  {
   "cell_type": "markdown",
   "metadata": {},
   "source": [
    "**Following identities can be obtained with algebraic manipulation: **\n",
    "\n",
    "$$ {\\displaystyle C\\setminus (A\\cap B)=(C\\setminus A)\\cup (C\\setminus B)} $$\n",
    "$$ {\\displaystyle C\\setminus (A\\cup B)=(C\\setminus A)\\cap (C\\setminus B)} $$\n",
    "$$ {\\displaystyle C\\setminus (B\\setminus A)=(C\\cap A)\\cup (C\\setminus B)} $$\n",
    "$$ {\\displaystyle C\\setminus (C\\setminus A)=(C\\cap A)} $$\n",
    "$$ {\\displaystyle (B\\setminus A)\\cap C=(B\\cap C)\\setminus A=B\\cap (C\\setminus A)} $$\n",
    "$$ {\\displaystyle (B\\setminus A)\\cup C=(B\\cup C)\\setminus (A\\setminus C)} $$      \n",
    "$$ {\\displaystyle A\\setminus A=\\emptyset} $$\n",
    "$$ {\\displaystyle \\emptyset \\setminus A=\\emptyset } $$\n",
    "$$ {\\displaystyle A\\setminus \\emptyset =A} $$\n",
    "$$ {\\displaystyle A\\setminus U=\\emptyset } $$\n",
    "\n",
    "### Symmetric difference\n",
    "\n",
    "In set theory, the ***symmetric difference***, also known as the ***disjunctive union***, of two sets is the set of elements which are in either of the sets and not in their intersection.\n",
    "$$ {\\displaystyle A\\,\\triangle \\,B=\\{x:(x\\in A)\\oplus (x\\in B)\\}}$$ \n",
    "\n",
    "$$ {\\displaystyle A\\,\\triangle \\,B=(A\\smallsetminus B)\\cup (B\\smallsetminus A)} $$\n",
    "\n",
    "$${\\displaystyle A\\,\\triangle \\,B=(A\\cup B)\\smallsetminus (A\\cap B)} $$\n",
    "\n",
    "**Some properties,**\n",
    "\n",
    "$$ {\\displaystyle A\\,\\triangle \\,B=B\\,\\triangle \\,A,} $$\n",
    "$$ {\\displaystyle (A\\,\\triangle \\,B)\\,\\triangle \\,C=A\\,\\triangle \\,(B\\,\\triangle \\,C).} $$\n",
    "\n",
    "**The empty set is neutral, and every set is its own inverse:**\n",
    "\n",
    "$$ {\\displaystyle A\\,\\triangle \\,\\varnothing =A,} $$\n",
    "$$ {\\displaystyle A\\,\\triangle \\,A=\\varnothing .} $$"
   ]
  },
  {
   "cell_type": "code",
   "execution_count": 20,
   "metadata": {},
   "outputs": [
    {
     "name": "stdout",
     "output_type": "stream",
     "text": [
      "S1 {0, 3, 6, 9, 12, 15, 18, 21, 24, 27, 30}\n",
      "S2 {0, 5, 10, 15, 20, 25, 30}\n",
      "Symmetric difference {3, 5, 6, 9, 10, 12, 18, 20, 21, 24, 25, 27}\n",
      "Symmetric difference {3, 5, 6, 9, 10, 12, 18, 20, 21, 24, 25, 27}\n"
     ]
    }
   ],
   "source": [
    "print(\"S1\",S1)\n",
    "print(\"S2\",S2)\n",
    "print(\"Symmetric difference\", S1^S2)\n",
    "print(\"Symmetric difference\", S2.symmetric_difference(S1))"
   ]
  },
  {
   "cell_type": "markdown",
   "metadata": {},
   "source": [
    "### Cartesian product\n",
    "\n",
    "In set theory (and, usually, in other parts of mathematics), a Cartesian product is a mathematical operation that returns a set (or product set or simply product) from multiple sets. That is, for sets A and B, the Cartesian product A × B is the set of all ordered pairs (a, b) where a ∈ A and b ∈ B.\n",
    "\n",
    "$$ {\\displaystyle A\\times B=\\{\\,(a,b)\\mid a\\in A\\ {\\mbox{ and }}\\ b\\in B\\,\\}.} $$\n",
    "\n",
    "More generally, a Cartesian product of n sets, also known as an n-fold Cartesian product, can be represented by an array of n dimensions, where each element is an *n-tuple*. An ordered pair is a *2-tuple* or couple. The Cartesian product is named after [René Descartes](https://en.wikipedia.org/wiki/Ren%C3%A9_Descartes) whose formulation of analytic geometry gave rise to the concept."
   ]
  },
  {
   "cell_type": "code",
   "execution_count": 21,
   "metadata": {},
   "outputs": [],
   "source": [
    "A = set(['a','b','c'])\n",
    "S = {1,2,3}"
   ]
  },
  {
   "cell_type": "code",
   "execution_count": 22,
   "metadata": {},
   "outputs": [],
   "source": [
    "def cartesian_product(S1,S2):\n",
    "    result = set()\n",
    "    for i in S1:\n",
    "        for j in S2:\n",
    "            result.add(tuple([i,j]))\n",
    "    return (result)"
   ]
  },
  {
   "cell_type": "code",
   "execution_count": 23,
   "metadata": {},
   "outputs": [
    {
     "name": "stdout",
     "output_type": "stream",
     "text": [
      "Cartesian product of A and S\n",
      "{'a', 'b', 'c'} X {1, 2, 3}:{('b', 2), ('c', 1), ('b', 3), ('b', 1), ('a', 1), ('a', 2), ('a', 3), ('c', 2), ('c', 3)}\n"
     ]
    }
   ],
   "source": [
    "C = cartesian_product(A,S)\n",
    "print(\"Cartesian product of A and S\\n{} X {}:{}\".format(A,S,C))"
   ]
  },
  {
   "cell_type": "code",
   "execution_count": 24,
   "metadata": {},
   "outputs": [
    {
     "name": "stdout",
     "output_type": "stream",
     "text": [
      "Length of the Cartesian product set: 9\n"
     ]
    }
   ],
   "source": [
    "print(\"Length of the Cartesian product set:\",len(C))"
   ]
  },
  {
   "cell_type": "markdown",
   "metadata": {},
   "source": [
    "Note that because these are ordered pairs, **same element can be repeated inside the pair** i.e. even if two sets contain some identical elements, they can be paired up in the Cartesian product.\n",
    "\n",
    "Instead of writing functions ourselves, we could use the **`itertools`** library of Python. Remember to **turn the resulting product object** into a list for viewing and subsequent processing."
   ]
  },
  {
   "cell_type": "code",
   "execution_count": 25,
   "metadata": {},
   "outputs": [
    {
     "name": "stdout",
     "output_type": "stream",
     "text": [
      "A is set of all possible throws of a dice: {1, 2, 3, 4, 5, 6}\n",
      "B is set of all possible throws of a dice: {1, 2, 3, 4, 5, 6}\n",
      "\n",
      "Product of A and B is the all possible combinations of A and B thrown together:\n",
      " [(1, 1), (1, 2), (1, 3), (1, 4), (1, 5), (1, 6), (2, 1), (2, 2), (2, 3), (2, 4), (2, 5), (2, 6), (3, 1), (3, 2), (3, 3), (3, 4), (3, 5), (3, 6), (4, 1), (4, 2), (4, 3), (4, 4), (4, 5), (4, 6), (5, 1), (5, 2), (5, 3), (5, 4), (5, 5), (5, 6), (6, 1), (6, 2), (6, 3), (6, 4), (6, 5), (6, 6)]\n"
     ]
    }
   ],
   "source": [
    "from itertools import product as prod\n",
    "\n",
    "A = set([x for x in range(1,7)])\n",
    "B = set([x for x in range(1,7)])\n",
    "p=list(prod(A,B))\n",
    "\n",
    "print(\"A is set of all possible throws of a dice:\",A)\n",
    "print(\"B is set of all possible throws of a dice:\",B)\n",
    "print (\"\\nProduct of A and B is the all possible combinations of A and B thrown together:\\n\",p)"
   ]
  },
  {
   "cell_type": "markdown",
   "metadata": {},
   "source": [
    "### Cartesian Power\n",
    "\n",
    "The Cartesian square (or binary Cartesian product) of a set X is the Cartesian product $X^2 = X × X$. An example is the 2-dimensional plane $R^2 = R × R$ where _R_ is the set of real numbers: $R^2$ is the set of all points (_x_,_y_) where _x_ and _y_ are real numbers (see the [Cartesian coordinate system](https://en.wikipedia.org/wiki/Cartesian_coordinate_system)).\n",
    "\n",
    "The cartesian power of a set X can be defined as:\n",
    "\n",
    "${\\displaystyle X^{n}=\\underbrace {X\\times X\\times \\cdots \\times X} _{n}=\\{(x_{1},\\ldots ,x_{n})\\ |\\ x_{i}\\in X{\\text{ for all }}i=1,\\ldots ,n\\}.} $\n",
    "\n",
    "The [cardinality of a set](https://en.wikipedia.org/wiki/Cardinality) is the number of elements of the set. Cardinality of a Cartesian power set is $|S|^{n}$ where |S| is the cardinality of the set _S_ and _n_ is the power.\n",
    "\n",
    "__We can easily use itertools again for calculating Cartesian power__. The `repeat` parameter is used as power."
   ]
  },
  {
   "cell_type": "code",
   "execution_count": 26,
   "metadata": {},
   "outputs": [
    {
     "name": "stdout",
     "output_type": "stream",
     "text": [
      "Cartesian power 2 with length 4: [('Head', 'Head'), ('Head', 'Tail'), ('Tail', 'Head'), ('Tail', 'Tail')]\n",
      "\n",
      "Cartesian power 3 with length 8: [('Head', 'Head', 'Head'), ('Head', 'Head', 'Tail'), ('Head', 'Tail', 'Head'), ('Head', 'Tail', 'Tail'), ('Tail', 'Head', 'Head'), ('Tail', 'Head', 'Tail'), ('Tail', 'Tail', 'Head'), ('Tail', 'Tail', 'Tail')]\n"
     ]
    }
   ],
   "source": [
    "A = {'Head','Tail'} # 2 element set\n",
    "p2=list(prod(A,repeat=2)) # Power set of power 2\n",
    "print(\"Cartesian power 2 with length {}: {}\".format(len(p2),p2))\n",
    "print()\n",
    "p3=list(prod(A,repeat=3)) # Power set of power 3\n",
    "print(\"Cartesian power 3 with length {}: {}\".format(len(p3),p3))"
   ]
  },
  {
   "cell_type": "markdown",
   "metadata": {},
   "source": [
    "---\n",
    "\n",
    "## Permutations\n",
    "\n",
    "In mathematics, the notion of permutation relates to the **act of arranging all the members of a set into some sequence or order**, or if the set is already ordered, rearranging (reordering) its elements, a process called __permuting__. The study of permutations of finite sets is a topic in the field of [combinatorics](https://en.wikipedia.org/wiki/Combinatorics). \n",
    "\n",
    "We find the number of $k$-permutations of $A$, first by determining the set of permutations and then by calculating $\\frac{|A|!}{(|A|-k)!}$. We first consider the special case of $k=|A|$, which is equivalent to finding the number of ways of ordering the elements of $A$. "
   ]
  },
  {
   "cell_type": "code",
   "execution_count": 27,
   "metadata": {},
   "outputs": [
    {
     "name": "stdout",
     "output_type": "stream",
     "text": [
      "Permutations of {'Blue', 'Green', 'Red'}\n",
      "--------------------------------------------------\n",
      "('Green', 'Red', 'Blue')\n",
      "('Green', 'Blue', 'Red')\n",
      "('Blue', 'Red', 'Green')\n",
      "('Blue', 'Green', 'Red')\n",
      "('Red', 'Blue', 'Green')\n",
      "('Red', 'Green', 'Blue')\n",
      "--------------------------------------------------\n",
      "Number of permutations:  6\n"
     ]
    }
   ],
   "source": [
    "import itertools\n",
    "\n",
    "A = {'Red','Green','Blue'}\n",
    "\n",
    "# Find all permutations of A\n",
    "permute_all = set(itertools.permutations(A))\n",
    "print(\"Permutations of {}\".format(A))\n",
    "print(\"-\"*50)\n",
    "for i in permute_all:\n",
    "    print(i)\n",
    "print(\"-\"*50)\n",
    "print;print (\"Number of permutations: \", len(permute_all))"
   ]
  },
  {
   "cell_type": "code",
   "execution_count": 28,
   "metadata": {},
   "outputs": [
    {
     "name": "stdout",
     "output_type": "stream",
     "text": [
      "Factorial of 3: 6\n"
     ]
    }
   ],
   "source": [
    "import matplotlib.patches as mpatches\n",
    "import matplotlib.pyplot as plt\n",
    "from math import factorial\n",
    "\n",
    "print(\"Factorial of 3:\", factorial(3))"
   ]
  },
  {
   "cell_type": "markdown",
   "metadata": {},
   "source": [
    "### Selecting _k_ items out of a set containing _n_ items and permuting "
   ]
  }
 ],
 "metadata": {
  "kernelspec": {
   "display_name": "Python 3",
   "language": "python",
   "name": "python3"
  },
  "language_info": {
   "codemirror_mode": {
    "name": "ipython",
    "version": 3
   },
   "file_extension": ".py",
   "mimetype": "text/x-python",
   "name": "python",
   "nbconvert_exporter": "python",
   "pygments_lexer": "ipython3",
   "version": "3.7.4"
  }
 },
 "nbformat": 4,
 "nbformat_minor": 4
}
